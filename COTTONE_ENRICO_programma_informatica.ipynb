{
  "nbformat": 4,
  "nbformat_minor": 0,
  "metadata": {
    "colab": {
      "provenance": []
    },
    "kernelspec": {
      "name": "python3",
      "display_name": "Python 3"
    },
    "language_info": {
      "name": "python"
    }
  },
  "cells": [
    {
      "cell_type": "markdown",
      "source": [
        "#Python base"
      ],
      "metadata": {
        "id": "VlfU3EKDvuB5"
      }
    },
    {
      "cell_type": "markdown",
      "source": [
        "inserimento dati, visualizzazione dati"
      ],
      "metadata": {
        "id": "SPNrHWvYwAiW"
      }
    },
    {
      "cell_type": "code",
      "source": [
        "nome = input(\"Qual'è il tuo nome? \")\n",
        "print(nome)\n",
        "peso = input(\"Quanto pesi? \")\n",
        "print(peso + \"kg\")\n",
        "\n",
        "altezza = float(input(\"Qual'è l'altezza? \"))\n",
        "print(str(altezza) + \"m\")"
      ],
      "metadata": {
        "colab": {
          "base_uri": "https://localhost:8080/"
        },
        "id": "u2LQJg1r_Ffm",
        "outputId": "4ee8b970-5f1c-4412-91f7-56719dabb9ce"
      },
      "execution_count": null,
      "outputs": [
        {
          "output_type": "stream",
          "name": "stdout",
          "text": [
            "Qual'è il tuo nome? Enrico\n",
            "Enrico\n",
            "Quanto pesi? 70\n",
            "70kg\n",
            "Qual'è l'altezza? 1.75\n",
            "1.75m\n"
          ]
        }
      ]
    },
    {
      "cell_type": "markdown",
      "source": [
        "tipi di dati (interi, float, stringhe, booleani, ...) "
      ],
      "metadata": {
        "id": "OwP9zJrwwdfV"
      }
    },
    {
      "cell_type": "code",
      "source": [
        "Intero = 10\n",
        "Decimale = 10.0\n",
        "Stringa = \"Dieci\"\n",
        "Booleano = True"
      ],
      "metadata": {
        "id": "GtUKhoY6ODIa"
      },
      "execution_count": null,
      "outputs": []
    },
    {
      "cell_type": "markdown",
      "source": [
        "operazioni matematiche fondamentali (somma, sottrazione, moltiplicazione, divisione tra interi e tra reali, resto, elevamento a potenza, ...)"
      ],
      "metadata": {
        "id": "mITw5b-7vwsP"
      }
    },
    {
      "cell_type": "code",
      "source": [
        "A = 10\n",
        "B = 20\n",
        "C = 30\n",
        "\n",
        "print(A+B-C)\n",
        "     #10 + 20 - 30 (0)\n",
        "print(A*B-C)\n",
        "    #10 * 20 - 30 (170)"
      ],
      "metadata": {
        "colab": {
          "base_uri": "https://localhost:8080/"
        },
        "id": "ab-iy-HYOOMN",
        "outputId": "70b031a7-41c4-403f-e870-f079a4196889"
      },
      "execution_count": null,
      "outputs": [
        {
          "output_type": "stream",
          "name": "stdout",
          "text": [
            "0\n",
            "170\n"
          ]
        }
      ]
    },
    {
      "cell_type": "markdown",
      "source": [
        "selezione (if, if else, elif)"
      ],
      "metadata": {
        "id": "eKQ9odxpvzEf"
      }
    },
    {
      "cell_type": "code",
      "source": [
        "def isLower(string):\n",
        "  if string.islower():\n",
        "    return True\n",
        "  else:\n",
        "    return False\n",
        "\n",
        "isLower(\"ciao\")"
      ],
      "metadata": {
        "colab": {
          "base_uri": "https://localhost:8080/"
        },
        "id": "lCeU239DPSgA",
        "outputId": "d25aaf2b-f4f2-40ef-9010-f8f29f112e66"
      },
      "execution_count": null,
      "outputs": [
        {
          "output_type": "execute_result",
          "data": {
            "text/plain": [
              "True"
            ]
          },
          "metadata": {},
          "execution_count": 12
        }
      ]
    },
    {
      "cell_type": "markdown",
      "source": [
        "operatori per il confronto tra variabili (uguale, diverso, maggiore, minore, minore uguale, ...)"
      ],
      "metadata": {
        "id": "Zl4IU_bOxFB1"
      }
    },
    {
      "cell_type": "code",
      "source": [
        "a = \"no\"\n",
        "b = \"ciau\"\n",
        "\n",
        "if a == b:\n",
        "  print(\"Le due stringhe sono uguali\")"
      ],
      "metadata": {
        "id": "v-dXDPjITQTL"
      },
      "execution_count": null,
      "outputs": []
    },
    {
      "cell_type": "markdown",
      "source": [
        "operatori logici (and, or, not)"
      ],
      "metadata": {
        "id": "Q7_OSh5WxxJK"
      }
    },
    {
      "cell_type": "code",
      "source": [
        "if a == b or b == \"ciau\" and not b == \"e\":\n",
        "  print(\"Si.\")"
      ],
      "metadata": {
        "colab": {
          "base_uri": "https://localhost:8080/"
        },
        "id": "OwG3nLzfTzCr",
        "outputId": "4386e96e-e8af-493c-9918-5f55b39eed5c"
      },
      "execution_count": null,
      "outputs": [
        {
          "output_type": "stream",
          "name": "stdout",
          "text": [
            "Si.\n"
          ]
        }
      ]
    },
    {
      "cell_type": "markdown",
      "source": [
        "operatori di appartenenza (in, not in)"
      ],
      "metadata": {
        "id": "w2f1OWg6x24S"
      }
    },
    {
      "cell_type": "code",
      "source": [
        "lista = [1,2,3,4,54,4325,345,323435346]\n",
        "if 4325 in lista:\n",
        "  print(\"Il valore 4325 è presente nella lista.\")\n",
        "\n",
        "if 534543534543534543 not in lista:\n",
        "  print(\"Il valore 534543534543534543 non è presente nella lista.\")"
      ],
      "metadata": {
        "colab": {
          "base_uri": "https://localhost:8080/"
        },
        "id": "w_fpVJDdUigX",
        "outputId": "876784a5-7a7d-46c3-9bbe-9b108547f56a"
      },
      "execution_count": null,
      "outputs": [
        {
          "output_type": "stream",
          "name": "stdout",
          "text": [
            "Il valore 4325 è presente nella lista.\n",
            "Il valore 534543534543534543 non è presente nella lista.\n"
          ]
        }
      ]
    },
    {
      "cell_type": "markdown",
      "source": [
        "cicli (while, for)"
      ],
      "metadata": {
        "id": "k5onQQXHx__a"
      }
    },
    {
      "cell_type": "code",
      "source": [
        "lista = [1,2,3,4,54,4325,345,323435346]\n",
        "\n",
        "for valore in lista:\n",
        "  print(valore)\n",
        "\n",
        "isEnabled = True\n",
        "import time\n",
        "\n",
        "count = 0\n",
        "\n",
        "while isEnabled:\n",
        "  if count < 10:\n",
        "    print(\"Rahh\")\n",
        "    count+=1\n",
        "    print(count)\n",
        "  else:\n",
        "    isEnabled = False\n",
        "    print(count)"
      ],
      "metadata": {
        "colab": {
          "base_uri": "https://localhost:8080/"
        },
        "id": "a53uAyyzVFg5",
        "outputId": "a13d2864-dcb9-455f-963c-5c3291e70b6c"
      },
      "execution_count": null,
      "outputs": [
        {
          "output_type": "stream",
          "name": "stdout",
          "text": [
            "1\n",
            "2\n",
            "3\n",
            "4\n",
            "54\n",
            "4325\n",
            "345\n",
            "323435346\n",
            "Rahh\n",
            "1\n",
            "Rahh\n",
            "2\n",
            "Rahh\n",
            "3\n",
            "Rahh\n",
            "4\n",
            "Rahh\n",
            "5\n",
            "Rahh\n",
            "6\n",
            "Rahh\n",
            "7\n",
            "Rahh\n",
            "8\n",
            "Rahh\n",
            "9\n",
            "Rahh\n",
            "10\n",
            "Rahh\n",
            "11\n",
            "11\n"
          ]
        }
      ]
    },
    {
      "cell_type": "markdown",
      "source": [
        "generazione di numeri casuali (interi, float), range()"
      ],
      "metadata": {
        "id": "Ns1JjBYbzMJO"
      }
    },
    {
      "cell_type": "code",
      "source": [
        "import random\n",
        "\n",
        "print(random.randint(10, 500))\n",
        "print(random.random())"
      ],
      "metadata": {
        "colab": {
          "base_uri": "https://localhost:8080/"
        },
        "id": "a9CExKQ5VKJf",
        "outputId": "05505eed-5a8b-470c-b3a8-6766d6b66c07"
      },
      "execution_count": null,
      "outputs": [
        {
          "output_type": "stream",
          "name": "stdout",
          "text": [
            "248\n",
            "0.20932510000375948\n"
          ]
        }
      ]
    },
    {
      "cell_type": "markdown",
      "source": [
        "determinazione tempo di esecuzione di un programma"
      ],
      "metadata": {
        "id": "fHcv7nA-3Hj_"
      }
    },
    {
      "cell_type": "code",
      "source": [
        "# Inserire il tempo dentro una variabile prima del programma stesso\n",
        "import time\n",
        "startTime = time.time()\n",
        "\n",
        "# Il programma dovrebbe essere scritto qui.\n",
        "\n",
        "endTime = time.time()\n",
        "\n",
        "# Ora si deve calcoalre il deltaTime ovvero la differenza di tempo tra il endTime e lo startTime.\n",
        "\n",
        "totalTime = endTime - startTime\n",
        "\n",
        "print(totalTime)"
      ],
      "metadata": {
        "colab": {
          "base_uri": "https://localhost:8080/"
        },
        "id": "iYWSVSHbVrlh",
        "outputId": "77dbe41c-2e11-4264-c584-fc7219b5a2a3"
      },
      "execution_count": null,
      "outputs": [
        {
          "output_type": "stream",
          "name": "stdout",
          "text": [
            "2.2649765014648438e-05\n"
          ]
        }
      ]
    },
    {
      "cell_type": "markdown",
      "source": [
        "#Strutture dati"
      ],
      "metadata": {
        "id": "lS9h1SbYyJ3J"
      }
    },
    {
      "cell_type": "markdown",
      "source": [
        "liste (creazione anche con list comprehension, inserimento, modifica, cancellazione, visualizzazione, ricerca, metodi specifici)"
      ],
      "metadata": {
        "id": "eHzg5yNHyRRZ"
      }
    },
    {
      "cell_type": "code",
      "source": [
        "lista = []\n",
        "lista.append(1)\n",
        "\n",
        "lista = [i for i in range(100)]\n",
        "print(lista)\n",
        "\n",
        "lista.remove(1)\n",
        "print(lista)\n",
        "\n",
        "lista[0]\n",
        "if 1 in lista:\n",
        "  # do something here\n",
        "  print(\"nice\")"
      ],
      "metadata": {
        "colab": {
          "base_uri": "https://localhost:8080/"
        },
        "id": "PPBITQ3MBDU8",
        "outputId": "8529f394-b758-4e27-a840-7c0b9ab76ff1"
      },
      "execution_count": null,
      "outputs": [
        {
          "output_type": "stream",
          "name": "stdout",
          "text": [
            "[0, 1, 2, 3, 4, 5, 6, 7, 8, 9, 10, 11, 12, 13, 14, 15, 16, 17, 18, 19, 20, 21, 22, 23, 24, 25, 26, 27, 28, 29, 30, 31, 32, 33, 34, 35, 36, 37, 38, 39, 40, 41, 42, 43, 44, 45, 46, 47, 48, 49, 50, 51, 52, 53, 54, 55, 56, 57, 58, 59, 60, 61, 62, 63, 64, 65, 66, 67, 68, 69, 70, 71, 72, 73, 74, 75, 76, 77, 78, 79, 80, 81, 82, 83, 84, 85, 86, 87, 88, 89, 90, 91, 92, 93, 94, 95, 96, 97, 98, 99]\n",
            "[0, 2, 3, 4, 5, 6, 7, 8, 9, 10, 11, 12, 13, 14, 15, 16, 17, 18, 19, 20, 21, 22, 23, 24, 25, 26, 27, 28, 29, 30, 31, 32, 33, 34, 35, 36, 37, 38, 39, 40, 41, 42, 43, 44, 45, 46, 47, 48, 49, 50, 51, 52, 53, 54, 55, 56, 57, 58, 59, 60, 61, 62, 63, 64, 65, 66, 67, 68, 69, 70, 71, 72, 73, 74, 75, 76, 77, 78, 79, 80, 81, 82, 83, 84, 85, 86, 87, 88, 89, 90, 91, 92, 93, 94, 95, 96, 97, 98, 99]\n"
          ]
        }
      ]
    },
    {
      "cell_type": "markdown",
      "source": [
        "tuple (creazione anche con list comprehension, inserimento, modifica, cancellazione, visualizzazione, ricerca, metodi specifici)"
      ],
      "metadata": {
        "id": "eoUpQiJnxVJV"
      }
    },
    {
      "cell_type": "code",
      "source": [
        "tupla = ()\n",
        "\n",
        "tupla = (i for i in range(100))\n",
        "print(tupla)\n",
        "#tupla.append(1)  # Non si può modificare una tupla\n",
        "#tupla.remove(1)  # Non si può modificare una tupla\n",
        "print(tupla)\n",
        "\n",
        "# tupla[0] # Le tuple non hanno un index\n",
        "if 1 in tupla:\n",
        "  # do something here\n",
        "  print(\"nice\")"
      ],
      "metadata": {
        "colab": {
          "base_uri": "https://localhost:8080/"
        },
        "id": "yqC_T8nzEsRS",
        "outputId": "1535c0ba-0926-4dd4-c108-a4e7fb3212d6"
      },
      "execution_count": null,
      "outputs": [
        {
          "output_type": "stream",
          "name": "stdout",
          "text": [
            "<generator object <genexpr> at 0x7f0065e76b30>\n",
            "<generator object <genexpr> at 0x7f0065e76b30>\n",
            "nice\n"
          ]
        }
      ]
    },
    {
      "cell_type": "markdown",
      "source": [
        "set (creazione anche con list comprehension, inserimento, modifica, cancellazione, visualizzazione, ricerca, metodi specifici)"
      ],
      "metadata": {
        "id": "5enXw7_vznk-"
      }
    },
    {
      "cell_type": "code",
      "source": [
        "ilSet = set()\n",
        "\n",
        "ilSet = set(i for i in range(100))\n",
        "print(ilSet)\n",
        "#ilSet.append(1)  # Non si può modificare una set\n",
        "#ilSet.remove(1)  # Non si può modificare una set\n",
        "print(ilSet)\n",
        "\n",
        "# ilSet[0] # I set non hanno un index\n",
        "if 1 in ilSet:\n",
        "  # do something here\n",
        "  print(\"nice\")"
      ],
      "metadata": {
        "colab": {
          "base_uri": "https://localhost:8080/"
        },
        "id": "PI4lv0KkFifC",
        "outputId": "5c79d128-9043-46a3-9417-2d3e1f216cdd"
      },
      "execution_count": null,
      "outputs": [
        {
          "output_type": "stream",
          "name": "stdout",
          "text": [
            "{0, 1, 2, 3, 4, 5, 6, 7, 8, 9, 10, 11, 12, 13, 14, 15, 16, 17, 18, 19, 20, 21, 22, 23, 24, 25, 26, 27, 28, 29, 30, 31, 32, 33, 34, 35, 36, 37, 38, 39, 40, 41, 42, 43, 44, 45, 46, 47, 48, 49, 50, 51, 52, 53, 54, 55, 56, 57, 58, 59, 60, 61, 62, 63, 64, 65, 66, 67, 68, 69, 70, 71, 72, 73, 74, 75, 76, 77, 78, 79, 80, 81, 82, 83, 84, 85, 86, 87, 88, 89, 90, 91, 92, 93, 94, 95, 96, 97, 98, 99}\n",
            "{0, 1, 2, 3, 4, 5, 6, 7, 8, 9, 10, 11, 12, 13, 14, 15, 16, 17, 18, 19, 20, 21, 22, 23, 24, 25, 26, 27, 28, 29, 30, 31, 32, 33, 34, 35, 36, 37, 38, 39, 40, 41, 42, 43, 44, 45, 46, 47, 48, 49, 50, 51, 52, 53, 54, 55, 56, 57, 58, 59, 60, 61, 62, 63, 64, 65, 66, 67, 68, 69, 70, 71, 72, 73, 74, 75, 76, 77, 78, 79, 80, 81, 82, 83, 84, 85, 86, 87, 88, 89, 90, 91, 92, 93, 94, 95, 96, 97, 98, 99}\n",
            "nice\n"
          ]
        }
      ]
    },
    {
      "cell_type": "markdown",
      "source": [
        "dizionari (creazione anche con list comprehension, inserimento, modifica, cancellazione, visualizzazione, ricerca, metodi specifici)"
      ],
      "metadata": {
        "id": "Fd_ZniI_zo8O"
      }
    },
    {
      "cell_type": "code",
      "source": [
        "dictionary = {\n",
        "    \"key1\": \"Hiello\",\n",
        "    \"key2\": \"Hiello1\"\n",
        "}\n",
        "dictionary[\"key3\"] = \"Hiello2\"\n",
        "\n",
        "dictionary.pop(\"key1\")\n",
        "\n",
        "for key in dictionary:\n",
        "  print(key, dictionary[key])\n",
        "\n",
        "dictionary = {i:'Hiello' + str(i) for i in range(50)}\n",
        "print(dictionary)"
      ],
      "metadata": {
        "colab": {
          "base_uri": "https://localhost:8080/"
        },
        "id": "D6V3ckLiHRbL",
        "outputId": "47c30426-297a-4933-8915-c1f37ee37f60"
      },
      "execution_count": null,
      "outputs": [
        {
          "output_type": "stream",
          "name": "stdout",
          "text": [
            "key2 Hiello1\n",
            "key3 Hiello2\n",
            "{0: 'Hiello0', 1: 'Hiello1', 2: 'Hiello2', 3: 'Hiello3', 4: 'Hiello4', 5: 'Hiello5', 6: 'Hiello6', 7: 'Hiello7', 8: 'Hiello8', 9: 'Hiello9', 10: 'Hiello10', 11: 'Hiello11', 12: 'Hiello12', 13: 'Hiello13', 14: 'Hiello14', 15: 'Hiello15', 16: 'Hiello16', 17: 'Hiello17', 18: 'Hiello18', 19: 'Hiello19', 20: 'Hiello20', 21: 'Hiello21', 22: 'Hiello22', 23: 'Hiello23', 24: 'Hiello24', 25: 'Hiello25', 26: 'Hiello26', 27: 'Hiello27', 28: 'Hiello28', 29: 'Hiello29', 30: 'Hiello30', 31: 'Hiello31', 32: 'Hiello32', 33: 'Hiello33', 34: 'Hiello34', 35: 'Hiello35', 36: 'Hiello36', 37: 'Hiello37', 38: 'Hiello38', 39: 'Hiello39', 40: 'Hiello40', 41: 'Hiello41', 42: 'Hiello42', 43: 'Hiello43', 44: 'Hiello44', 45: 'Hiello45', 46: 'Hiello46', 47: 'Hiello47', 48: 'Hiello48', 49: 'Hiello49'}\n"
          ]
        }
      ]
    },
    {
      "cell_type": "markdown",
      "source": [
        "criteri per la scelta della struttura dati più adatta all'applicazione"
      ],
      "metadata": {
        "id": "PD49J-Gv0qJ8"
      }
    },
    {
      "cell_type": "markdown",
      "source": [
        "#Pandas"
      ],
      "metadata": {
        "id": "eeMDQKKu1Brz"
      }
    },
    {
      "cell_type": "markdown",
      "source": [
        "creazione del dataframe da file di tipo diverso"
      ],
      "metadata": {
        "id": "7qn3k6JD1D-K"
      }
    },
    {
      "cell_type": "code",
      "source": [
        "import pandas as pd\n",
        "\n",
        "df = pd.read_csv(\"https://raw.githubusercontent.com/CottoneEnrico/python/main/game_data.csv\") # read_csv/read_json etc.\n",
        "df"
      ],
      "metadata": {
        "colab": {
          "base_uri": "https://localhost:8080/",
          "height": 313
        },
        "id": "4RGTIsv3abP-",
        "outputId": "e5d2c5be-5d8a-4a3c-bfaa-900dab182236"
      },
      "execution_count": null,
      "outputs": [
        {
          "output_type": "execute_result",
          "data": {
            "text/plain": [
              "       PlaceId                PlaceName      GameId                 GameName  \\\n",
              "0  11283937321  [100k!] Italian City RP  4021740067  [100k!] Italian City RP   \n",
              "1  11283937321  [100k!] Italian City RP  4021740067  [100k!] Italian City RP   \n",
              "2  11283937321  [100k!] Italian City RP  4021740067  [100k!] Italian City RP   \n",
              "3  11283937321  [100k!] Italian City RP  4021740067  [100k!] Italian City RP   \n",
              "4  11283937321  [100k!] Italian City RP  4021740067  [100k!] Italian City RP   \n",
              "5  11283937321  [100k!] Italian City RP  4021740067  [100k!] Italian City RP   \n",
              "6  11283937321  [100k!] Italian City RP  4021740067  [100k!] Italian City RP   \n",
              "\n",
              "       ItemId                        ItemName ItemType Currency        Date  \\\n",
              "0  1198143208  Carabinieri Nucleo Radiomobile    Shirt    Robux  2022_12_10   \n",
              "1  1314824417                Elite Moai Pants    Pants    Robux  2022_12_11   \n",
              "2  1314827195                Elite Moai Shirt    Shirt    Robux  2022_12_11   \n",
              "3     2735142                            Moai      Hat    Robux  2022_12_11   \n",
              "4     2735142                            Moai      Hat    Robux  2022_12_11   \n",
              "5  1141026970                          Naples    Shirt    Robux  2022_12_13   \n",
              "6   968271055                           Gucci    Shirt    Robux  2022_12_13   \n",
              "\n",
              "   SalesVolume  Revenue  RevenueSource    Device  \n",
              "0            1        3  Transactional  Computer  \n",
              "1            1        3  Transactional  Computer  \n",
              "2            1        3  Transactional  Computer  \n",
              "3            1       24  Transactional  Computer  \n",
              "4            1       24  Transactional     Phone  \n",
              "5            1        3  Transactional     Phone  \n",
              "6            1        3  Transactional  Computer  "
            ],
            "text/html": [
              "\n",
              "  <div id=\"df-39f0284c-b025-4bd9-b958-6f7fb190f7cc\">\n",
              "    <div class=\"colab-df-container\">\n",
              "      <div>\n",
              "<style scoped>\n",
              "    .dataframe tbody tr th:only-of-type {\n",
              "        vertical-align: middle;\n",
              "    }\n",
              "\n",
              "    .dataframe tbody tr th {\n",
              "        vertical-align: top;\n",
              "    }\n",
              "\n",
              "    .dataframe thead th {\n",
              "        text-align: right;\n",
              "    }\n",
              "</style>\n",
              "<table border=\"1\" class=\"dataframe\">\n",
              "  <thead>\n",
              "    <tr style=\"text-align: right;\">\n",
              "      <th></th>\n",
              "      <th>PlaceId</th>\n",
              "      <th>PlaceName</th>\n",
              "      <th>GameId</th>\n",
              "      <th>GameName</th>\n",
              "      <th>ItemId</th>\n",
              "      <th>ItemName</th>\n",
              "      <th>ItemType</th>\n",
              "      <th>Currency</th>\n",
              "      <th>Date</th>\n",
              "      <th>SalesVolume</th>\n",
              "      <th>Revenue</th>\n",
              "      <th>RevenueSource</th>\n",
              "      <th>Device</th>\n",
              "    </tr>\n",
              "  </thead>\n",
              "  <tbody>\n",
              "    <tr>\n",
              "      <th>0</th>\n",
              "      <td>11283937321</td>\n",
              "      <td>[100k!] Italian City RP</td>\n",
              "      <td>4021740067</td>\n",
              "      <td>[100k!] Italian City RP</td>\n",
              "      <td>1198143208</td>\n",
              "      <td>Carabinieri Nucleo Radiomobile</td>\n",
              "      <td>Shirt</td>\n",
              "      <td>Robux</td>\n",
              "      <td>2022_12_10</td>\n",
              "      <td>1</td>\n",
              "      <td>3</td>\n",
              "      <td>Transactional</td>\n",
              "      <td>Computer</td>\n",
              "    </tr>\n",
              "    <tr>\n",
              "      <th>1</th>\n",
              "      <td>11283937321</td>\n",
              "      <td>[100k!] Italian City RP</td>\n",
              "      <td>4021740067</td>\n",
              "      <td>[100k!] Italian City RP</td>\n",
              "      <td>1314824417</td>\n",
              "      <td>Elite Moai Pants</td>\n",
              "      <td>Pants</td>\n",
              "      <td>Robux</td>\n",
              "      <td>2022_12_11</td>\n",
              "      <td>1</td>\n",
              "      <td>3</td>\n",
              "      <td>Transactional</td>\n",
              "      <td>Computer</td>\n",
              "    </tr>\n",
              "    <tr>\n",
              "      <th>2</th>\n",
              "      <td>11283937321</td>\n",
              "      <td>[100k!] Italian City RP</td>\n",
              "      <td>4021740067</td>\n",
              "      <td>[100k!] Italian City RP</td>\n",
              "      <td>1314827195</td>\n",
              "      <td>Elite Moai Shirt</td>\n",
              "      <td>Shirt</td>\n",
              "      <td>Robux</td>\n",
              "      <td>2022_12_11</td>\n",
              "      <td>1</td>\n",
              "      <td>3</td>\n",
              "      <td>Transactional</td>\n",
              "      <td>Computer</td>\n",
              "    </tr>\n",
              "    <tr>\n",
              "      <th>3</th>\n",
              "      <td>11283937321</td>\n",
              "      <td>[100k!] Italian City RP</td>\n",
              "      <td>4021740067</td>\n",
              "      <td>[100k!] Italian City RP</td>\n",
              "      <td>2735142</td>\n",
              "      <td>Moai</td>\n",
              "      <td>Hat</td>\n",
              "      <td>Robux</td>\n",
              "      <td>2022_12_11</td>\n",
              "      <td>1</td>\n",
              "      <td>24</td>\n",
              "      <td>Transactional</td>\n",
              "      <td>Computer</td>\n",
              "    </tr>\n",
              "    <tr>\n",
              "      <th>4</th>\n",
              "      <td>11283937321</td>\n",
              "      <td>[100k!] Italian City RP</td>\n",
              "      <td>4021740067</td>\n",
              "      <td>[100k!] Italian City RP</td>\n",
              "      <td>2735142</td>\n",
              "      <td>Moai</td>\n",
              "      <td>Hat</td>\n",
              "      <td>Robux</td>\n",
              "      <td>2022_12_11</td>\n",
              "      <td>1</td>\n",
              "      <td>24</td>\n",
              "      <td>Transactional</td>\n",
              "      <td>Phone</td>\n",
              "    </tr>\n",
              "    <tr>\n",
              "      <th>5</th>\n",
              "      <td>11283937321</td>\n",
              "      <td>[100k!] Italian City RP</td>\n",
              "      <td>4021740067</td>\n",
              "      <td>[100k!] Italian City RP</td>\n",
              "      <td>1141026970</td>\n",
              "      <td>Naples</td>\n",
              "      <td>Shirt</td>\n",
              "      <td>Robux</td>\n",
              "      <td>2022_12_13</td>\n",
              "      <td>1</td>\n",
              "      <td>3</td>\n",
              "      <td>Transactional</td>\n",
              "      <td>Phone</td>\n",
              "    </tr>\n",
              "    <tr>\n",
              "      <th>6</th>\n",
              "      <td>11283937321</td>\n",
              "      <td>[100k!] Italian City RP</td>\n",
              "      <td>4021740067</td>\n",
              "      <td>[100k!] Italian City RP</td>\n",
              "      <td>968271055</td>\n",
              "      <td>Gucci</td>\n",
              "      <td>Shirt</td>\n",
              "      <td>Robux</td>\n",
              "      <td>2022_12_13</td>\n",
              "      <td>1</td>\n",
              "      <td>3</td>\n",
              "      <td>Transactional</td>\n",
              "      <td>Computer</td>\n",
              "    </tr>\n",
              "  </tbody>\n",
              "</table>\n",
              "</div>\n",
              "      <button class=\"colab-df-convert\" onclick=\"convertToInteractive('df-39f0284c-b025-4bd9-b958-6f7fb190f7cc')\"\n",
              "              title=\"Convert this dataframe to an interactive table.\"\n",
              "              style=\"display:none;\">\n",
              "        \n",
              "  <svg xmlns=\"http://www.w3.org/2000/svg\" height=\"24px\"viewBox=\"0 0 24 24\"\n",
              "       width=\"24px\">\n",
              "    <path d=\"M0 0h24v24H0V0z\" fill=\"none\"/>\n",
              "    <path d=\"M18.56 5.44l.94 2.06.94-2.06 2.06-.94-2.06-.94-.94-2.06-.94 2.06-2.06.94zm-11 1L8.5 8.5l.94-2.06 2.06-.94-2.06-.94L8.5 2.5l-.94 2.06-2.06.94zm10 10l.94 2.06.94-2.06 2.06-.94-2.06-.94-.94-2.06-.94 2.06-2.06.94z\"/><path d=\"M17.41 7.96l-1.37-1.37c-.4-.4-.92-.59-1.43-.59-.52 0-1.04.2-1.43.59L10.3 9.45l-7.72 7.72c-.78.78-.78 2.05 0 2.83L4 21.41c.39.39.9.59 1.41.59.51 0 1.02-.2 1.41-.59l7.78-7.78 2.81-2.81c.8-.78.8-2.07 0-2.86zM5.41 20L4 18.59l7.72-7.72 1.47 1.35L5.41 20z\"/>\n",
              "  </svg>\n",
              "      </button>\n",
              "      \n",
              "  <style>\n",
              "    .colab-df-container {\n",
              "      display:flex;\n",
              "      flex-wrap:wrap;\n",
              "      gap: 12px;\n",
              "    }\n",
              "\n",
              "    .colab-df-convert {\n",
              "      background-color: #E8F0FE;\n",
              "      border: none;\n",
              "      border-radius: 50%;\n",
              "      cursor: pointer;\n",
              "      display: none;\n",
              "      fill: #1967D2;\n",
              "      height: 32px;\n",
              "      padding: 0 0 0 0;\n",
              "      width: 32px;\n",
              "    }\n",
              "\n",
              "    .colab-df-convert:hover {\n",
              "      background-color: #E2EBFA;\n",
              "      box-shadow: 0px 1px 2px rgba(60, 64, 67, 0.3), 0px 1px 3px 1px rgba(60, 64, 67, 0.15);\n",
              "      fill: #174EA6;\n",
              "    }\n",
              "\n",
              "    [theme=dark] .colab-df-convert {\n",
              "      background-color: #3B4455;\n",
              "      fill: #D2E3FC;\n",
              "    }\n",
              "\n",
              "    [theme=dark] .colab-df-convert:hover {\n",
              "      background-color: #434B5C;\n",
              "      box-shadow: 0px 1px 3px 1px rgba(0, 0, 0, 0.15);\n",
              "      filter: drop-shadow(0px 1px 2px rgba(0, 0, 0, 0.3));\n",
              "      fill: #FFFFFF;\n",
              "    }\n",
              "  </style>\n",
              "\n",
              "      <script>\n",
              "        const buttonEl =\n",
              "          document.querySelector('#df-39f0284c-b025-4bd9-b958-6f7fb190f7cc button.colab-df-convert');\n",
              "        buttonEl.style.display =\n",
              "          google.colab.kernel.accessAllowed ? 'block' : 'none';\n",
              "\n",
              "        async function convertToInteractive(key) {\n",
              "          const element = document.querySelector('#df-39f0284c-b025-4bd9-b958-6f7fb190f7cc');\n",
              "          const dataTable =\n",
              "            await google.colab.kernel.invokeFunction('convertToInteractive',\n",
              "                                                     [key], {});\n",
              "          if (!dataTable) return;\n",
              "\n",
              "          const docLinkHtml = 'Like what you see? Visit the ' +\n",
              "            '<a target=\"_blank\" href=https://colab.research.google.com/notebooks/data_table.ipynb>data table notebook</a>'\n",
              "            + ' to learn more about interactive tables.';\n",
              "          element.innerHTML = '';\n",
              "          dataTable['output_type'] = 'display_data';\n",
              "          await google.colab.output.renderOutput(dataTable, element);\n",
              "          const docLink = document.createElement('div');\n",
              "          docLink.innerHTML = docLinkHtml;\n",
              "          element.appendChild(docLink);\n",
              "        }\n",
              "      </script>\n",
              "    </div>\n",
              "  </div>\n",
              "  "
            ]
          },
          "metadata": {},
          "execution_count": 43
        }
      ]
    },
    {
      "cell_type": "markdown",
      "source": [
        "eliminazione di righe (più metodi se possibile)"
      ],
      "metadata": {
        "id": "T_OZh9c-1KZ0"
      }
    },
    {
      "cell_type": "code",
      "source": [
        "df.drop(0, inplace=True)\n",
        "df"
      ],
      "metadata": {
        "colab": {
          "base_uri": "https://localhost:8080/",
          "height": 237
        },
        "id": "V-H3j6qvjaEs",
        "outputId": "8eacb8a8-8af7-446d-881b-86e03428da58"
      },
      "execution_count": null,
      "outputs": [
        {
          "output_type": "execute_result",
          "data": {
            "text/plain": [
              "       PlaceId                PlaceName      GameId                 GameName  \\\n",
              "1  11283937321  [100k!] Italian City RP  4021740067  [100k!] Italian City RP   \n",
              "2  11283937321  [100k!] Italian City RP  4021740067  [100k!] Italian City RP   \n",
              "3  11283937321  [100k!] Italian City RP  4021740067  [100k!] Italian City RP   \n",
              "4  11283937321  [100k!] Italian City RP  4021740067  [100k!] Italian City RP   \n",
              "5  11283937321  [100k!] Italian City RP  4021740067  [100k!] Italian City RP   \n",
              "6  11283937321  [100k!] Italian City RP  4021740067  [100k!] Italian City RP   \n",
              "\n",
              "       ItemId          ItemName ItemType Currency        Date  SalesVolume  \\\n",
              "1  1314824417  Elite Moai Pants    Pants    Robux  2022_12_11            1   \n",
              "2  1314827195  Elite Moai Shirt    Shirt    Robux  2022_12_11            1   \n",
              "3     2735142              Moai      Hat    Robux  2022_12_11            1   \n",
              "4     2735142              Moai      Hat    Robux  2022_12_11            1   \n",
              "5  1141026970            Naples    Shirt    Robux  2022_12_13            1   \n",
              "6   968271055             Gucci    Shirt    Robux  2022_12_13            1   \n",
              "\n",
              "   Revenue  RevenueSource    Device  \n",
              "1        3  Transactional  Computer  \n",
              "2        3  Transactional  Computer  \n",
              "3       24  Transactional  Computer  \n",
              "4       24  Transactional     Phone  \n",
              "5        3  Transactional     Phone  \n",
              "6        3  Transactional  Computer  "
            ],
            "text/html": [
              "\n",
              "  <div id=\"df-c33188a6-8425-4984-b241-2a5024b0260a\">\n",
              "    <div class=\"colab-df-container\">\n",
              "      <div>\n",
              "<style scoped>\n",
              "    .dataframe tbody tr th:only-of-type {\n",
              "        vertical-align: middle;\n",
              "    }\n",
              "\n",
              "    .dataframe tbody tr th {\n",
              "        vertical-align: top;\n",
              "    }\n",
              "\n",
              "    .dataframe thead th {\n",
              "        text-align: right;\n",
              "    }\n",
              "</style>\n",
              "<table border=\"1\" class=\"dataframe\">\n",
              "  <thead>\n",
              "    <tr style=\"text-align: right;\">\n",
              "      <th></th>\n",
              "      <th>PlaceId</th>\n",
              "      <th>PlaceName</th>\n",
              "      <th>GameId</th>\n",
              "      <th>GameName</th>\n",
              "      <th>ItemId</th>\n",
              "      <th>ItemName</th>\n",
              "      <th>ItemType</th>\n",
              "      <th>Currency</th>\n",
              "      <th>Date</th>\n",
              "      <th>SalesVolume</th>\n",
              "      <th>Revenue</th>\n",
              "      <th>RevenueSource</th>\n",
              "      <th>Device</th>\n",
              "    </tr>\n",
              "  </thead>\n",
              "  <tbody>\n",
              "    <tr>\n",
              "      <th>1</th>\n",
              "      <td>11283937321</td>\n",
              "      <td>[100k!] Italian City RP</td>\n",
              "      <td>4021740067</td>\n",
              "      <td>[100k!] Italian City RP</td>\n",
              "      <td>1314824417</td>\n",
              "      <td>Elite Moai Pants</td>\n",
              "      <td>Pants</td>\n",
              "      <td>Robux</td>\n",
              "      <td>2022_12_11</td>\n",
              "      <td>1</td>\n",
              "      <td>3</td>\n",
              "      <td>Transactional</td>\n",
              "      <td>Computer</td>\n",
              "    </tr>\n",
              "    <tr>\n",
              "      <th>2</th>\n",
              "      <td>11283937321</td>\n",
              "      <td>[100k!] Italian City RP</td>\n",
              "      <td>4021740067</td>\n",
              "      <td>[100k!] Italian City RP</td>\n",
              "      <td>1314827195</td>\n",
              "      <td>Elite Moai Shirt</td>\n",
              "      <td>Shirt</td>\n",
              "      <td>Robux</td>\n",
              "      <td>2022_12_11</td>\n",
              "      <td>1</td>\n",
              "      <td>3</td>\n",
              "      <td>Transactional</td>\n",
              "      <td>Computer</td>\n",
              "    </tr>\n",
              "    <tr>\n",
              "      <th>3</th>\n",
              "      <td>11283937321</td>\n",
              "      <td>[100k!] Italian City RP</td>\n",
              "      <td>4021740067</td>\n",
              "      <td>[100k!] Italian City RP</td>\n",
              "      <td>2735142</td>\n",
              "      <td>Moai</td>\n",
              "      <td>Hat</td>\n",
              "      <td>Robux</td>\n",
              "      <td>2022_12_11</td>\n",
              "      <td>1</td>\n",
              "      <td>24</td>\n",
              "      <td>Transactional</td>\n",
              "      <td>Computer</td>\n",
              "    </tr>\n",
              "    <tr>\n",
              "      <th>4</th>\n",
              "      <td>11283937321</td>\n",
              "      <td>[100k!] Italian City RP</td>\n",
              "      <td>4021740067</td>\n",
              "      <td>[100k!] Italian City RP</td>\n",
              "      <td>2735142</td>\n",
              "      <td>Moai</td>\n",
              "      <td>Hat</td>\n",
              "      <td>Robux</td>\n",
              "      <td>2022_12_11</td>\n",
              "      <td>1</td>\n",
              "      <td>24</td>\n",
              "      <td>Transactional</td>\n",
              "      <td>Phone</td>\n",
              "    </tr>\n",
              "    <tr>\n",
              "      <th>5</th>\n",
              "      <td>11283937321</td>\n",
              "      <td>[100k!] Italian City RP</td>\n",
              "      <td>4021740067</td>\n",
              "      <td>[100k!] Italian City RP</td>\n",
              "      <td>1141026970</td>\n",
              "      <td>Naples</td>\n",
              "      <td>Shirt</td>\n",
              "      <td>Robux</td>\n",
              "      <td>2022_12_13</td>\n",
              "      <td>1</td>\n",
              "      <td>3</td>\n",
              "      <td>Transactional</td>\n",
              "      <td>Phone</td>\n",
              "    </tr>\n",
              "    <tr>\n",
              "      <th>6</th>\n",
              "      <td>11283937321</td>\n",
              "      <td>[100k!] Italian City RP</td>\n",
              "      <td>4021740067</td>\n",
              "      <td>[100k!] Italian City RP</td>\n",
              "      <td>968271055</td>\n",
              "      <td>Gucci</td>\n",
              "      <td>Shirt</td>\n",
              "      <td>Robux</td>\n",
              "      <td>2022_12_13</td>\n",
              "      <td>1</td>\n",
              "      <td>3</td>\n",
              "      <td>Transactional</td>\n",
              "      <td>Computer</td>\n",
              "    </tr>\n",
              "  </tbody>\n",
              "</table>\n",
              "</div>\n",
              "      <button class=\"colab-df-convert\" onclick=\"convertToInteractive('df-c33188a6-8425-4984-b241-2a5024b0260a')\"\n",
              "              title=\"Convert this dataframe to an interactive table.\"\n",
              "              style=\"display:none;\">\n",
              "        \n",
              "  <svg xmlns=\"http://www.w3.org/2000/svg\" height=\"24px\"viewBox=\"0 0 24 24\"\n",
              "       width=\"24px\">\n",
              "    <path d=\"M0 0h24v24H0V0z\" fill=\"none\"/>\n",
              "    <path d=\"M18.56 5.44l.94 2.06.94-2.06 2.06-.94-2.06-.94-.94-2.06-.94 2.06-2.06.94zm-11 1L8.5 8.5l.94-2.06 2.06-.94-2.06-.94L8.5 2.5l-.94 2.06-2.06.94zm10 10l.94 2.06.94-2.06 2.06-.94-2.06-.94-.94-2.06-.94 2.06-2.06.94z\"/><path d=\"M17.41 7.96l-1.37-1.37c-.4-.4-.92-.59-1.43-.59-.52 0-1.04.2-1.43.59L10.3 9.45l-7.72 7.72c-.78.78-.78 2.05 0 2.83L4 21.41c.39.39.9.59 1.41.59.51 0 1.02-.2 1.41-.59l7.78-7.78 2.81-2.81c.8-.78.8-2.07 0-2.86zM5.41 20L4 18.59l7.72-7.72 1.47 1.35L5.41 20z\"/>\n",
              "  </svg>\n",
              "      </button>\n",
              "      \n",
              "  <style>\n",
              "    .colab-df-container {\n",
              "      display:flex;\n",
              "      flex-wrap:wrap;\n",
              "      gap: 12px;\n",
              "    }\n",
              "\n",
              "    .colab-df-convert {\n",
              "      background-color: #E8F0FE;\n",
              "      border: none;\n",
              "      border-radius: 50%;\n",
              "      cursor: pointer;\n",
              "      display: none;\n",
              "      fill: #1967D2;\n",
              "      height: 32px;\n",
              "      padding: 0 0 0 0;\n",
              "      width: 32px;\n",
              "    }\n",
              "\n",
              "    .colab-df-convert:hover {\n",
              "      background-color: #E2EBFA;\n",
              "      box-shadow: 0px 1px 2px rgba(60, 64, 67, 0.3), 0px 1px 3px 1px rgba(60, 64, 67, 0.15);\n",
              "      fill: #174EA6;\n",
              "    }\n",
              "\n",
              "    [theme=dark] .colab-df-convert {\n",
              "      background-color: #3B4455;\n",
              "      fill: #D2E3FC;\n",
              "    }\n",
              "\n",
              "    [theme=dark] .colab-df-convert:hover {\n",
              "      background-color: #434B5C;\n",
              "      box-shadow: 0px 1px 3px 1px rgba(0, 0, 0, 0.15);\n",
              "      filter: drop-shadow(0px 1px 2px rgba(0, 0, 0, 0.3));\n",
              "      fill: #FFFFFF;\n",
              "    }\n",
              "  </style>\n",
              "\n",
              "      <script>\n",
              "        const buttonEl =\n",
              "          document.querySelector('#df-c33188a6-8425-4984-b241-2a5024b0260a button.colab-df-convert');\n",
              "        buttonEl.style.display =\n",
              "          google.colab.kernel.accessAllowed ? 'block' : 'none';\n",
              "\n",
              "        async function convertToInteractive(key) {\n",
              "          const element = document.querySelector('#df-c33188a6-8425-4984-b241-2a5024b0260a');\n",
              "          const dataTable =\n",
              "            await google.colab.kernel.invokeFunction('convertToInteractive',\n",
              "                                                     [key], {});\n",
              "          if (!dataTable) return;\n",
              "\n",
              "          const docLinkHtml = 'Like what you see? Visit the ' +\n",
              "            '<a target=\"_blank\" href=https://colab.research.google.com/notebooks/data_table.ipynb>data table notebook</a>'\n",
              "            + ' to learn more about interactive tables.';\n",
              "          element.innerHTML = '';\n",
              "          dataTable['output_type'] = 'display_data';\n",
              "          await google.colab.output.renderOutput(dataTable, element);\n",
              "          const docLink = document.createElement('div');\n",
              "          docLink.innerHTML = docLinkHtml;\n",
              "          element.appendChild(docLink);\n",
              "        }\n",
              "      </script>\n",
              "    </div>\n",
              "  </div>\n",
              "  "
            ]
          },
          "metadata": {},
          "execution_count": 44
        }
      ]
    },
    {
      "cell_type": "markdown",
      "source": [
        "eliminazione di colonne (più metodi se possibile)"
      ],
      "metadata": {
        "id": "xJe3vnfZ1Npr"
      }
    },
    {
      "cell_type": "code",
      "source": [
        "df.drop(labels=\"PlaceId\", axis=1,inplace=True)\n",
        "df"
      ],
      "metadata": {
        "colab": {
          "base_uri": "https://localhost:8080/",
          "height": 237
        },
        "id": "69nhGV4UkNTp",
        "outputId": "94a0189b-7965-496b-8a72-ca6b192f01bc"
      },
      "execution_count": null,
      "outputs": [
        {
          "output_type": "execute_result",
          "data": {
            "text/plain": [
              "                 PlaceName      GameId                 GameName      ItemId  \\\n",
              "1  [100k!] Italian City RP  4021740067  [100k!] Italian City RP  1314824417   \n",
              "2  [100k!] Italian City RP  4021740067  [100k!] Italian City RP  1314827195   \n",
              "3  [100k!] Italian City RP  4021740067  [100k!] Italian City RP     2735142   \n",
              "4  [100k!] Italian City RP  4021740067  [100k!] Italian City RP     2735142   \n",
              "5  [100k!] Italian City RP  4021740067  [100k!] Italian City RP  1141026970   \n",
              "6  [100k!] Italian City RP  4021740067  [100k!] Italian City RP   968271055   \n",
              "\n",
              "           ItemName ItemType Currency        Date  SalesVolume  Revenue  \\\n",
              "1  Elite Moai Pants    Pants    Robux  2022_12_11            1        3   \n",
              "2  Elite Moai Shirt    Shirt    Robux  2022_12_11            1        3   \n",
              "3              Moai      Hat    Robux  2022_12_11            1       24   \n",
              "4              Moai      Hat    Robux  2022_12_11            1       24   \n",
              "5            Naples    Shirt    Robux  2022_12_13            1        3   \n",
              "6             Gucci    Shirt    Robux  2022_12_13            1        3   \n",
              "\n",
              "   RevenueSource    Device  \n",
              "1  Transactional  Computer  \n",
              "2  Transactional  Computer  \n",
              "3  Transactional  Computer  \n",
              "4  Transactional     Phone  \n",
              "5  Transactional     Phone  \n",
              "6  Transactional  Computer  "
            ],
            "text/html": [
              "\n",
              "  <div id=\"df-8219c2e8-2671-45cf-837c-8b3b6b517c65\">\n",
              "    <div class=\"colab-df-container\">\n",
              "      <div>\n",
              "<style scoped>\n",
              "    .dataframe tbody tr th:only-of-type {\n",
              "        vertical-align: middle;\n",
              "    }\n",
              "\n",
              "    .dataframe tbody tr th {\n",
              "        vertical-align: top;\n",
              "    }\n",
              "\n",
              "    .dataframe thead th {\n",
              "        text-align: right;\n",
              "    }\n",
              "</style>\n",
              "<table border=\"1\" class=\"dataframe\">\n",
              "  <thead>\n",
              "    <tr style=\"text-align: right;\">\n",
              "      <th></th>\n",
              "      <th>PlaceName</th>\n",
              "      <th>GameId</th>\n",
              "      <th>GameName</th>\n",
              "      <th>ItemId</th>\n",
              "      <th>ItemName</th>\n",
              "      <th>ItemType</th>\n",
              "      <th>Currency</th>\n",
              "      <th>Date</th>\n",
              "      <th>SalesVolume</th>\n",
              "      <th>Revenue</th>\n",
              "      <th>RevenueSource</th>\n",
              "      <th>Device</th>\n",
              "    </tr>\n",
              "  </thead>\n",
              "  <tbody>\n",
              "    <tr>\n",
              "      <th>1</th>\n",
              "      <td>[100k!] Italian City RP</td>\n",
              "      <td>4021740067</td>\n",
              "      <td>[100k!] Italian City RP</td>\n",
              "      <td>1314824417</td>\n",
              "      <td>Elite Moai Pants</td>\n",
              "      <td>Pants</td>\n",
              "      <td>Robux</td>\n",
              "      <td>2022_12_11</td>\n",
              "      <td>1</td>\n",
              "      <td>3</td>\n",
              "      <td>Transactional</td>\n",
              "      <td>Computer</td>\n",
              "    </tr>\n",
              "    <tr>\n",
              "      <th>2</th>\n",
              "      <td>[100k!] Italian City RP</td>\n",
              "      <td>4021740067</td>\n",
              "      <td>[100k!] Italian City RP</td>\n",
              "      <td>1314827195</td>\n",
              "      <td>Elite Moai Shirt</td>\n",
              "      <td>Shirt</td>\n",
              "      <td>Robux</td>\n",
              "      <td>2022_12_11</td>\n",
              "      <td>1</td>\n",
              "      <td>3</td>\n",
              "      <td>Transactional</td>\n",
              "      <td>Computer</td>\n",
              "    </tr>\n",
              "    <tr>\n",
              "      <th>3</th>\n",
              "      <td>[100k!] Italian City RP</td>\n",
              "      <td>4021740067</td>\n",
              "      <td>[100k!] Italian City RP</td>\n",
              "      <td>2735142</td>\n",
              "      <td>Moai</td>\n",
              "      <td>Hat</td>\n",
              "      <td>Robux</td>\n",
              "      <td>2022_12_11</td>\n",
              "      <td>1</td>\n",
              "      <td>24</td>\n",
              "      <td>Transactional</td>\n",
              "      <td>Computer</td>\n",
              "    </tr>\n",
              "    <tr>\n",
              "      <th>4</th>\n",
              "      <td>[100k!] Italian City RP</td>\n",
              "      <td>4021740067</td>\n",
              "      <td>[100k!] Italian City RP</td>\n",
              "      <td>2735142</td>\n",
              "      <td>Moai</td>\n",
              "      <td>Hat</td>\n",
              "      <td>Robux</td>\n",
              "      <td>2022_12_11</td>\n",
              "      <td>1</td>\n",
              "      <td>24</td>\n",
              "      <td>Transactional</td>\n",
              "      <td>Phone</td>\n",
              "    </tr>\n",
              "    <tr>\n",
              "      <th>5</th>\n",
              "      <td>[100k!] Italian City RP</td>\n",
              "      <td>4021740067</td>\n",
              "      <td>[100k!] Italian City RP</td>\n",
              "      <td>1141026970</td>\n",
              "      <td>Naples</td>\n",
              "      <td>Shirt</td>\n",
              "      <td>Robux</td>\n",
              "      <td>2022_12_13</td>\n",
              "      <td>1</td>\n",
              "      <td>3</td>\n",
              "      <td>Transactional</td>\n",
              "      <td>Phone</td>\n",
              "    </tr>\n",
              "    <tr>\n",
              "      <th>6</th>\n",
              "      <td>[100k!] Italian City RP</td>\n",
              "      <td>4021740067</td>\n",
              "      <td>[100k!] Italian City RP</td>\n",
              "      <td>968271055</td>\n",
              "      <td>Gucci</td>\n",
              "      <td>Shirt</td>\n",
              "      <td>Robux</td>\n",
              "      <td>2022_12_13</td>\n",
              "      <td>1</td>\n",
              "      <td>3</td>\n",
              "      <td>Transactional</td>\n",
              "      <td>Computer</td>\n",
              "    </tr>\n",
              "  </tbody>\n",
              "</table>\n",
              "</div>\n",
              "      <button class=\"colab-df-convert\" onclick=\"convertToInteractive('df-8219c2e8-2671-45cf-837c-8b3b6b517c65')\"\n",
              "              title=\"Convert this dataframe to an interactive table.\"\n",
              "              style=\"display:none;\">\n",
              "        \n",
              "  <svg xmlns=\"http://www.w3.org/2000/svg\" height=\"24px\"viewBox=\"0 0 24 24\"\n",
              "       width=\"24px\">\n",
              "    <path d=\"M0 0h24v24H0V0z\" fill=\"none\"/>\n",
              "    <path d=\"M18.56 5.44l.94 2.06.94-2.06 2.06-.94-2.06-.94-.94-2.06-.94 2.06-2.06.94zm-11 1L8.5 8.5l.94-2.06 2.06-.94-2.06-.94L8.5 2.5l-.94 2.06-2.06.94zm10 10l.94 2.06.94-2.06 2.06-.94-2.06-.94-.94-2.06-.94 2.06-2.06.94z\"/><path d=\"M17.41 7.96l-1.37-1.37c-.4-.4-.92-.59-1.43-.59-.52 0-1.04.2-1.43.59L10.3 9.45l-7.72 7.72c-.78.78-.78 2.05 0 2.83L4 21.41c.39.39.9.59 1.41.59.51 0 1.02-.2 1.41-.59l7.78-7.78 2.81-2.81c.8-.78.8-2.07 0-2.86zM5.41 20L4 18.59l7.72-7.72 1.47 1.35L5.41 20z\"/>\n",
              "  </svg>\n",
              "      </button>\n",
              "      \n",
              "  <style>\n",
              "    .colab-df-container {\n",
              "      display:flex;\n",
              "      flex-wrap:wrap;\n",
              "      gap: 12px;\n",
              "    }\n",
              "\n",
              "    .colab-df-convert {\n",
              "      background-color: #E8F0FE;\n",
              "      border: none;\n",
              "      border-radius: 50%;\n",
              "      cursor: pointer;\n",
              "      display: none;\n",
              "      fill: #1967D2;\n",
              "      height: 32px;\n",
              "      padding: 0 0 0 0;\n",
              "      width: 32px;\n",
              "    }\n",
              "\n",
              "    .colab-df-convert:hover {\n",
              "      background-color: #E2EBFA;\n",
              "      box-shadow: 0px 1px 2px rgba(60, 64, 67, 0.3), 0px 1px 3px 1px rgba(60, 64, 67, 0.15);\n",
              "      fill: #174EA6;\n",
              "    }\n",
              "\n",
              "    [theme=dark] .colab-df-convert {\n",
              "      background-color: #3B4455;\n",
              "      fill: #D2E3FC;\n",
              "    }\n",
              "\n",
              "    [theme=dark] .colab-df-convert:hover {\n",
              "      background-color: #434B5C;\n",
              "      box-shadow: 0px 1px 3px 1px rgba(0, 0, 0, 0.15);\n",
              "      filter: drop-shadow(0px 1px 2px rgba(0, 0, 0, 0.3));\n",
              "      fill: #FFFFFF;\n",
              "    }\n",
              "  </style>\n",
              "\n",
              "      <script>\n",
              "        const buttonEl =\n",
              "          document.querySelector('#df-8219c2e8-2671-45cf-837c-8b3b6b517c65 button.colab-df-convert');\n",
              "        buttonEl.style.display =\n",
              "          google.colab.kernel.accessAllowed ? 'block' : 'none';\n",
              "\n",
              "        async function convertToInteractive(key) {\n",
              "          const element = document.querySelector('#df-8219c2e8-2671-45cf-837c-8b3b6b517c65');\n",
              "          const dataTable =\n",
              "            await google.colab.kernel.invokeFunction('convertToInteractive',\n",
              "                                                     [key], {});\n",
              "          if (!dataTable) return;\n",
              "\n",
              "          const docLinkHtml = 'Like what you see? Visit the ' +\n",
              "            '<a target=\"_blank\" href=https://colab.research.google.com/notebooks/data_table.ipynb>data table notebook</a>'\n",
              "            + ' to learn more about interactive tables.';\n",
              "          element.innerHTML = '';\n",
              "          dataTable['output_type'] = 'display_data';\n",
              "          await google.colab.output.renderOutput(dataTable, element);\n",
              "          const docLink = document.createElement('div');\n",
              "          docLink.innerHTML = docLinkHtml;\n",
              "          element.appendChild(docLink);\n",
              "        }\n",
              "      </script>\n",
              "    </div>\n",
              "  </div>\n",
              "  "
            ]
          },
          "metadata": {},
          "execution_count": 41
        }
      ]
    },
    {
      "cell_type": "markdown",
      "source": [
        "eliminazione di valori nulli (più metodi se possibile)"
      ],
      "metadata": {
        "id": "C1-C6Vjb1PME"
      }
    },
    {
      "cell_type": "code",
      "source": [
        "df.dropna(inplace=True)"
      ],
      "metadata": {
        "id": "opB-YYe6mX_l"
      },
      "execution_count": null,
      "outputs": []
    },
    {
      "cell_type": "markdown",
      "source": [
        "selezione di una serie di righe (più metodi se possibile)"
      ],
      "metadata": {
        "id": "ugUyVMOY1Q5c"
      }
    },
    {
      "cell_type": "code",
      "source": [
        "df.loc[df[\"PlaceName\"] == \"[100k!] Italian City RP\"][\"PlaceName\"]"
      ],
      "metadata": {
        "colab": {
          "base_uri": "https://localhost:8080/"
        },
        "id": "een6kbU1nGDf",
        "outputId": "6b67d402-df5e-4a95-a772-40da8a514e20"
      },
      "execution_count": null,
      "outputs": [
        {
          "output_type": "execute_result",
          "data": {
            "text/plain": [
              "1    [100k!] Italian City RP\n",
              "2    [100k!] Italian City RP\n",
              "3    [100k!] Italian City RP\n",
              "4    [100k!] Italian City RP\n",
              "5    [100k!] Italian City RP\n",
              "6    [100k!] Italian City RP\n",
              "Name: PlaceName, dtype: object"
            ]
          },
          "metadata": {},
          "execution_count": 51
        }
      ]
    },
    {
      "cell_type": "markdown",
      "source": [
        "selezione di una serie di colonne (più metodi se possibile)"
      ],
      "metadata": {
        "id": "ohNqeoCa1Uaj"
      }
    },
    {
      "cell_type": "code",
      "source": [
        "df.loc[:, [\"PlaceName\",\"GameId\"]]"
      ],
      "metadata": {
        "colab": {
          "base_uri": "https://localhost:8080/",
          "height": 237
        },
        "id": "zOR4SMRGqPWM",
        "outputId": "9e66c877-381d-4b98-cd79-125fdbbedfb6"
      },
      "execution_count": null,
      "outputs": [
        {
          "output_type": "execute_result",
          "data": {
            "text/plain": [
              "                 PlaceName      GameId\n",
              "1  [100k!] Italian City RP  4021740067\n",
              "2  [100k!] Italian City RP  4021740067\n",
              "3  [100k!] Italian City RP  4021740067\n",
              "4  [100k!] Italian City RP  4021740067\n",
              "5  [100k!] Italian City RP  4021740067\n",
              "6  [100k!] Italian City RP  4021740067"
            ],
            "text/html": [
              "\n",
              "  <div id=\"df-44542cba-c85f-4907-935a-dd215a4e76c8\">\n",
              "    <div class=\"colab-df-container\">\n",
              "      <div>\n",
              "<style scoped>\n",
              "    .dataframe tbody tr th:only-of-type {\n",
              "        vertical-align: middle;\n",
              "    }\n",
              "\n",
              "    .dataframe tbody tr th {\n",
              "        vertical-align: top;\n",
              "    }\n",
              "\n",
              "    .dataframe thead th {\n",
              "        text-align: right;\n",
              "    }\n",
              "</style>\n",
              "<table border=\"1\" class=\"dataframe\">\n",
              "  <thead>\n",
              "    <tr style=\"text-align: right;\">\n",
              "      <th></th>\n",
              "      <th>PlaceName</th>\n",
              "      <th>GameId</th>\n",
              "    </tr>\n",
              "  </thead>\n",
              "  <tbody>\n",
              "    <tr>\n",
              "      <th>1</th>\n",
              "      <td>[100k!] Italian City RP</td>\n",
              "      <td>4021740067</td>\n",
              "    </tr>\n",
              "    <tr>\n",
              "      <th>2</th>\n",
              "      <td>[100k!] Italian City RP</td>\n",
              "      <td>4021740067</td>\n",
              "    </tr>\n",
              "    <tr>\n",
              "      <th>3</th>\n",
              "      <td>[100k!] Italian City RP</td>\n",
              "      <td>4021740067</td>\n",
              "    </tr>\n",
              "    <tr>\n",
              "      <th>4</th>\n",
              "      <td>[100k!] Italian City RP</td>\n",
              "      <td>4021740067</td>\n",
              "    </tr>\n",
              "    <tr>\n",
              "      <th>5</th>\n",
              "      <td>[100k!] Italian City RP</td>\n",
              "      <td>4021740067</td>\n",
              "    </tr>\n",
              "    <tr>\n",
              "      <th>6</th>\n",
              "      <td>[100k!] Italian City RP</td>\n",
              "      <td>4021740067</td>\n",
              "    </tr>\n",
              "  </tbody>\n",
              "</table>\n",
              "</div>\n",
              "      <button class=\"colab-df-convert\" onclick=\"convertToInteractive('df-44542cba-c85f-4907-935a-dd215a4e76c8')\"\n",
              "              title=\"Convert this dataframe to an interactive table.\"\n",
              "              style=\"display:none;\">\n",
              "        \n",
              "  <svg xmlns=\"http://www.w3.org/2000/svg\" height=\"24px\"viewBox=\"0 0 24 24\"\n",
              "       width=\"24px\">\n",
              "    <path d=\"M0 0h24v24H0V0z\" fill=\"none\"/>\n",
              "    <path d=\"M18.56 5.44l.94 2.06.94-2.06 2.06-.94-2.06-.94-.94-2.06-.94 2.06-2.06.94zm-11 1L8.5 8.5l.94-2.06 2.06-.94-2.06-.94L8.5 2.5l-.94 2.06-2.06.94zm10 10l.94 2.06.94-2.06 2.06-.94-2.06-.94-.94-2.06-.94 2.06-2.06.94z\"/><path d=\"M17.41 7.96l-1.37-1.37c-.4-.4-.92-.59-1.43-.59-.52 0-1.04.2-1.43.59L10.3 9.45l-7.72 7.72c-.78.78-.78 2.05 0 2.83L4 21.41c.39.39.9.59 1.41.59.51 0 1.02-.2 1.41-.59l7.78-7.78 2.81-2.81c.8-.78.8-2.07 0-2.86zM5.41 20L4 18.59l7.72-7.72 1.47 1.35L5.41 20z\"/>\n",
              "  </svg>\n",
              "      </button>\n",
              "      \n",
              "  <style>\n",
              "    .colab-df-container {\n",
              "      display:flex;\n",
              "      flex-wrap:wrap;\n",
              "      gap: 12px;\n",
              "    }\n",
              "\n",
              "    .colab-df-convert {\n",
              "      background-color: #E8F0FE;\n",
              "      border: none;\n",
              "      border-radius: 50%;\n",
              "      cursor: pointer;\n",
              "      display: none;\n",
              "      fill: #1967D2;\n",
              "      height: 32px;\n",
              "      padding: 0 0 0 0;\n",
              "      width: 32px;\n",
              "    }\n",
              "\n",
              "    .colab-df-convert:hover {\n",
              "      background-color: #E2EBFA;\n",
              "      box-shadow: 0px 1px 2px rgba(60, 64, 67, 0.3), 0px 1px 3px 1px rgba(60, 64, 67, 0.15);\n",
              "      fill: #174EA6;\n",
              "    }\n",
              "\n",
              "    [theme=dark] .colab-df-convert {\n",
              "      background-color: #3B4455;\n",
              "      fill: #D2E3FC;\n",
              "    }\n",
              "\n",
              "    [theme=dark] .colab-df-convert:hover {\n",
              "      background-color: #434B5C;\n",
              "      box-shadow: 0px 1px 3px 1px rgba(0, 0, 0, 0.15);\n",
              "      filter: drop-shadow(0px 1px 2px rgba(0, 0, 0, 0.3));\n",
              "      fill: #FFFFFF;\n",
              "    }\n",
              "  </style>\n",
              "\n",
              "      <script>\n",
              "        const buttonEl =\n",
              "          document.querySelector('#df-44542cba-c85f-4907-935a-dd215a4e76c8 button.colab-df-convert');\n",
              "        buttonEl.style.display =\n",
              "          google.colab.kernel.accessAllowed ? 'block' : 'none';\n",
              "\n",
              "        async function convertToInteractive(key) {\n",
              "          const element = document.querySelector('#df-44542cba-c85f-4907-935a-dd215a4e76c8');\n",
              "          const dataTable =\n",
              "            await google.colab.kernel.invokeFunction('convertToInteractive',\n",
              "                                                     [key], {});\n",
              "          if (!dataTable) return;\n",
              "\n",
              "          const docLinkHtml = 'Like what you see? Visit the ' +\n",
              "            '<a target=\"_blank\" href=https://colab.research.google.com/notebooks/data_table.ipynb>data table notebook</a>'\n",
              "            + ' to learn more about interactive tables.';\n",
              "          element.innerHTML = '';\n",
              "          dataTable['output_type'] = 'display_data';\n",
              "          await google.colab.output.renderOutput(dataTable, element);\n",
              "          const docLink = document.createElement('div');\n",
              "          docLink.innerHTML = docLinkHtml;\n",
              "          element.appendChild(docLink);\n",
              "        }\n",
              "      </script>\n",
              "    </div>\n",
              "  </div>\n",
              "  "
            ]
          },
          "metadata": {},
          "execution_count": 52
        }
      ]
    },
    {
      "cell_type": "markdown",
      "source": [
        "ricerca di valori in una colonna (più metodi se possibile)"
      ],
      "metadata": {
        "id": "46Nm66A61V-D"
      }
    },
    {
      "cell_type": "code",
      "source": [
        "df[df[\"PlaceName\"].str.contains(\"RP\")][\"PlaceName\"]"
      ],
      "metadata": {
        "colab": {
          "base_uri": "https://localhost:8080/"
        },
        "id": "Hxn9wABYrW4o",
        "outputId": "ccd462f3-1e35-41da-c2c5-5922b91e417a"
      },
      "execution_count": null,
      "outputs": [
        {
          "output_type": "execute_result",
          "data": {
            "text/plain": [
              "1    [100k!] Italian City RP\n",
              "2    [100k!] Italian City RP\n",
              "3    [100k!] Italian City RP\n",
              "4    [100k!] Italian City RP\n",
              "5    [100k!] Italian City RP\n",
              "6    [100k!] Italian City RP\n",
              "Name: PlaceName, dtype: object"
            ]
          },
          "metadata": {},
          "execution_count": 58
        }
      ]
    },
    {
      "cell_type": "markdown",
      "source": [
        "ricerca di più valori su una o più colonne"
      ],
      "metadata": {
        "id": "u_T1Nbyo2Pqo"
      }
    },
    {
      "cell_type": "code",
      "source": [
        "df.loc[df['PlaceName'] == \"[100k!] Italian City RP\"].where(df['PlaceId']==\"4021740067\").dropna()['PlaceName']"
      ],
      "metadata": {
        "colab": {
          "base_uri": "https://localhost:8080/"
        },
        "id": "JMCXyVj4sWxR",
        "outputId": "a0c365da-2077-4ced-f591-5e98127c3a6d"
      },
      "execution_count": null,
      "outputs": [
        {
          "output_type": "execute_result",
          "data": {
            "text/plain": [
              "Series([], Name: PlaceName, dtype: object)"
            ]
          },
          "metadata": {},
          "execution_count": 77
        }
      ]
    },
    {
      "cell_type": "markdown",
      "source": [
        "ricerca di sottotsringhe in una colonna"
      ],
      "metadata": {
        "id": "8jZ99Hlx15Kh"
      }
    },
    {
      "cell_type": "code",
      "source": [
        "df.loc[df['PlaceName'].str.contains(\"RP\", case=False)]"
      ],
      "metadata": {
        "colab": {
          "base_uri": "https://localhost:8080/",
          "height": 237
        },
        "id": "1x42XInQzOKx",
        "outputId": "2ec10d34-c563-47dc-923e-95318b38a2c1"
      },
      "execution_count": null,
      "outputs": [
        {
          "output_type": "execute_result",
          "data": {
            "text/plain": [
              "       PlaceId                PlaceName      GameId                 GameName  \\\n",
              "1  11283937321  [100k!] Italian City RP  4021740067  [100k!] Italian City RP   \n",
              "2  11283937321  [100k!] Italian City RP  4021740067  [100k!] Italian City RP   \n",
              "3  11283937321  [100k!] Italian City RP  4021740067  [100k!] Italian City RP   \n",
              "4  11283937321  [100k!] Italian City RP  4021740067  [100k!] Italian City RP   \n",
              "5  11283937321  [100k!] Italian City RP  4021740067  [100k!] Italian City RP   \n",
              "6  11283937321  [100k!] Italian City RP  4021740067  [100k!] Italian City RP   \n",
              "\n",
              "       ItemId          ItemName ItemType Currency        Date  SalesVolume  \\\n",
              "1  1314824417  Elite Moai Pants    Pants    Robux  2022_12_11            1   \n",
              "2  1314827195  Elite Moai Shirt    Shirt    Robux  2022_12_11            1   \n",
              "3     2735142              Moai      Hat    Robux  2022_12_11            1   \n",
              "4     2735142              Moai      Hat    Robux  2022_12_11            1   \n",
              "5  1141026970            Naples    Shirt    Robux  2022_12_13            1   \n",
              "6   968271055             Gucci    Shirt    Robux  2022_12_13            1   \n",
              "\n",
              "   Revenue  RevenueSource    Device  \n",
              "1        3  Transactional  Computer  \n",
              "2        3  Transactional  Computer  \n",
              "3       24  Transactional  Computer  \n",
              "4       24  Transactional     Phone  \n",
              "5        3  Transactional     Phone  \n",
              "6        3  Transactional  Computer  "
            ],
            "text/html": [
              "\n",
              "  <div id=\"df-f6173097-52d0-4af5-be44-4c1795c069c5\">\n",
              "    <div class=\"colab-df-container\">\n",
              "      <div>\n",
              "<style scoped>\n",
              "    .dataframe tbody tr th:only-of-type {\n",
              "        vertical-align: middle;\n",
              "    }\n",
              "\n",
              "    .dataframe tbody tr th {\n",
              "        vertical-align: top;\n",
              "    }\n",
              "\n",
              "    .dataframe thead th {\n",
              "        text-align: right;\n",
              "    }\n",
              "</style>\n",
              "<table border=\"1\" class=\"dataframe\">\n",
              "  <thead>\n",
              "    <tr style=\"text-align: right;\">\n",
              "      <th></th>\n",
              "      <th>PlaceId</th>\n",
              "      <th>PlaceName</th>\n",
              "      <th>GameId</th>\n",
              "      <th>GameName</th>\n",
              "      <th>ItemId</th>\n",
              "      <th>ItemName</th>\n",
              "      <th>ItemType</th>\n",
              "      <th>Currency</th>\n",
              "      <th>Date</th>\n",
              "      <th>SalesVolume</th>\n",
              "      <th>Revenue</th>\n",
              "      <th>RevenueSource</th>\n",
              "      <th>Device</th>\n",
              "    </tr>\n",
              "  </thead>\n",
              "  <tbody>\n",
              "    <tr>\n",
              "      <th>1</th>\n",
              "      <td>11283937321</td>\n",
              "      <td>[100k!] Italian City RP</td>\n",
              "      <td>4021740067</td>\n",
              "      <td>[100k!] Italian City RP</td>\n",
              "      <td>1314824417</td>\n",
              "      <td>Elite Moai Pants</td>\n",
              "      <td>Pants</td>\n",
              "      <td>Robux</td>\n",
              "      <td>2022_12_11</td>\n",
              "      <td>1</td>\n",
              "      <td>3</td>\n",
              "      <td>Transactional</td>\n",
              "      <td>Computer</td>\n",
              "    </tr>\n",
              "    <tr>\n",
              "      <th>2</th>\n",
              "      <td>11283937321</td>\n",
              "      <td>[100k!] Italian City RP</td>\n",
              "      <td>4021740067</td>\n",
              "      <td>[100k!] Italian City RP</td>\n",
              "      <td>1314827195</td>\n",
              "      <td>Elite Moai Shirt</td>\n",
              "      <td>Shirt</td>\n",
              "      <td>Robux</td>\n",
              "      <td>2022_12_11</td>\n",
              "      <td>1</td>\n",
              "      <td>3</td>\n",
              "      <td>Transactional</td>\n",
              "      <td>Computer</td>\n",
              "    </tr>\n",
              "    <tr>\n",
              "      <th>3</th>\n",
              "      <td>11283937321</td>\n",
              "      <td>[100k!] Italian City RP</td>\n",
              "      <td>4021740067</td>\n",
              "      <td>[100k!] Italian City RP</td>\n",
              "      <td>2735142</td>\n",
              "      <td>Moai</td>\n",
              "      <td>Hat</td>\n",
              "      <td>Robux</td>\n",
              "      <td>2022_12_11</td>\n",
              "      <td>1</td>\n",
              "      <td>24</td>\n",
              "      <td>Transactional</td>\n",
              "      <td>Computer</td>\n",
              "    </tr>\n",
              "    <tr>\n",
              "      <th>4</th>\n",
              "      <td>11283937321</td>\n",
              "      <td>[100k!] Italian City RP</td>\n",
              "      <td>4021740067</td>\n",
              "      <td>[100k!] Italian City RP</td>\n",
              "      <td>2735142</td>\n",
              "      <td>Moai</td>\n",
              "      <td>Hat</td>\n",
              "      <td>Robux</td>\n",
              "      <td>2022_12_11</td>\n",
              "      <td>1</td>\n",
              "      <td>24</td>\n",
              "      <td>Transactional</td>\n",
              "      <td>Phone</td>\n",
              "    </tr>\n",
              "    <tr>\n",
              "      <th>5</th>\n",
              "      <td>11283937321</td>\n",
              "      <td>[100k!] Italian City RP</td>\n",
              "      <td>4021740067</td>\n",
              "      <td>[100k!] Italian City RP</td>\n",
              "      <td>1141026970</td>\n",
              "      <td>Naples</td>\n",
              "      <td>Shirt</td>\n",
              "      <td>Robux</td>\n",
              "      <td>2022_12_13</td>\n",
              "      <td>1</td>\n",
              "      <td>3</td>\n",
              "      <td>Transactional</td>\n",
              "      <td>Phone</td>\n",
              "    </tr>\n",
              "    <tr>\n",
              "      <th>6</th>\n",
              "      <td>11283937321</td>\n",
              "      <td>[100k!] Italian City RP</td>\n",
              "      <td>4021740067</td>\n",
              "      <td>[100k!] Italian City RP</td>\n",
              "      <td>968271055</td>\n",
              "      <td>Gucci</td>\n",
              "      <td>Shirt</td>\n",
              "      <td>Robux</td>\n",
              "      <td>2022_12_13</td>\n",
              "      <td>1</td>\n",
              "      <td>3</td>\n",
              "      <td>Transactional</td>\n",
              "      <td>Computer</td>\n",
              "    </tr>\n",
              "  </tbody>\n",
              "</table>\n",
              "</div>\n",
              "      <button class=\"colab-df-convert\" onclick=\"convertToInteractive('df-f6173097-52d0-4af5-be44-4c1795c069c5')\"\n",
              "              title=\"Convert this dataframe to an interactive table.\"\n",
              "              style=\"display:none;\">\n",
              "        \n",
              "  <svg xmlns=\"http://www.w3.org/2000/svg\" height=\"24px\"viewBox=\"0 0 24 24\"\n",
              "       width=\"24px\">\n",
              "    <path d=\"M0 0h24v24H0V0z\" fill=\"none\"/>\n",
              "    <path d=\"M18.56 5.44l.94 2.06.94-2.06 2.06-.94-2.06-.94-.94-2.06-.94 2.06-2.06.94zm-11 1L8.5 8.5l.94-2.06 2.06-.94-2.06-.94L8.5 2.5l-.94 2.06-2.06.94zm10 10l.94 2.06.94-2.06 2.06-.94-2.06-.94-.94-2.06-.94 2.06-2.06.94z\"/><path d=\"M17.41 7.96l-1.37-1.37c-.4-.4-.92-.59-1.43-.59-.52 0-1.04.2-1.43.59L10.3 9.45l-7.72 7.72c-.78.78-.78 2.05 0 2.83L4 21.41c.39.39.9.59 1.41.59.51 0 1.02-.2 1.41-.59l7.78-7.78 2.81-2.81c.8-.78.8-2.07 0-2.86zM5.41 20L4 18.59l7.72-7.72 1.47 1.35L5.41 20z\"/>\n",
              "  </svg>\n",
              "      </button>\n",
              "      \n",
              "  <style>\n",
              "    .colab-df-container {\n",
              "      display:flex;\n",
              "      flex-wrap:wrap;\n",
              "      gap: 12px;\n",
              "    }\n",
              "\n",
              "    .colab-df-convert {\n",
              "      background-color: #E8F0FE;\n",
              "      border: none;\n",
              "      border-radius: 50%;\n",
              "      cursor: pointer;\n",
              "      display: none;\n",
              "      fill: #1967D2;\n",
              "      height: 32px;\n",
              "      padding: 0 0 0 0;\n",
              "      width: 32px;\n",
              "    }\n",
              "\n",
              "    .colab-df-convert:hover {\n",
              "      background-color: #E2EBFA;\n",
              "      box-shadow: 0px 1px 2px rgba(60, 64, 67, 0.3), 0px 1px 3px 1px rgba(60, 64, 67, 0.15);\n",
              "      fill: #174EA6;\n",
              "    }\n",
              "\n",
              "    [theme=dark] .colab-df-convert {\n",
              "      background-color: #3B4455;\n",
              "      fill: #D2E3FC;\n",
              "    }\n",
              "\n",
              "    [theme=dark] .colab-df-convert:hover {\n",
              "      background-color: #434B5C;\n",
              "      box-shadow: 0px 1px 3px 1px rgba(0, 0, 0, 0.15);\n",
              "      filter: drop-shadow(0px 1px 2px rgba(0, 0, 0, 0.3));\n",
              "      fill: #FFFFFF;\n",
              "    }\n",
              "  </style>\n",
              "\n",
              "      <script>\n",
              "        const buttonEl =\n",
              "          document.querySelector('#df-f6173097-52d0-4af5-be44-4c1795c069c5 button.colab-df-convert');\n",
              "        buttonEl.style.display =\n",
              "          google.colab.kernel.accessAllowed ? 'block' : 'none';\n",
              "\n",
              "        async function convertToInteractive(key) {\n",
              "          const element = document.querySelector('#df-f6173097-52d0-4af5-be44-4c1795c069c5');\n",
              "          const dataTable =\n",
              "            await google.colab.kernel.invokeFunction('convertToInteractive',\n",
              "                                                     [key], {});\n",
              "          if (!dataTable) return;\n",
              "\n",
              "          const docLinkHtml = 'Like what you see? Visit the ' +\n",
              "            '<a target=\"_blank\" href=https://colab.research.google.com/notebooks/data_table.ipynb>data table notebook</a>'\n",
              "            + ' to learn more about interactive tables.';\n",
              "          element.innerHTML = '';\n",
              "          dataTable['output_type'] = 'display_data';\n",
              "          await google.colab.output.renderOutput(dataTable, element);\n",
              "          const docLink = document.createElement('div');\n",
              "          docLink.innerHTML = docLinkHtml;\n",
              "          element.appendChild(docLink);\n",
              "        }\n",
              "      </script>\n",
              "    </div>\n",
              "  </div>\n",
              "  "
            ]
          },
          "metadata": {},
          "execution_count": 80
        }
      ]
    },
    {
      "cell_type": "markdown",
      "source": [
        "gestione delle date (da string a datetime e viceversa)"
      ],
      "metadata": {
        "id": "z2OQDO1P3L6f"
      }
    },
    {
      "cell_type": "code",
      "source": [
        "from datetime import datetime\n",
        "\n",
        "str = '14,12,2022'\n",
        "datetime_value = datetime.strptime(str,'%d,%m,%Y')\n",
        "print(datetime_value)\n",
        "\n",
        "string_timevalue = datetime_value.strftime('%d,%m,%Y')\n",
        "print(type(string_timevalue))"
      ],
      "metadata": {
        "colab": {
          "base_uri": "https://localhost:8080/"
        },
        "id": "ND_spNyT0Qr6",
        "outputId": "325536e1-7f52-4318-c3be-e0de5d922bdf"
      },
      "execution_count": null,
      "outputs": [
        {
          "output_type": "stream",
          "name": "stdout",
          "text": [
            "2022-12-14 00:00:00\n",
            "<class 'str'>\n"
          ]
        }
      ]
    },
    {
      "cell_type": "markdown",
      "source": [
        "raggruppamenti e funzioni di aggregazione (count, min, max, sum, mean)"
      ],
      "metadata": {
        "id": "fr9SDRpW12eB"
      }
    },
    {
      "cell_type": "code",
      "source": [
        "\"\"\"\n",
        "df.groupby(['Revenue']).max()\n",
        "df.groupby(['Revenue']).min()\n",
        "df.groupby(['Revenue']).sum()\n",
        "df.groupby(['Revenue']).mean()\n",
        "df.groupby(['Revenue']).count()\n",
        "\"\"\""
      ],
      "metadata": {
        "id": "o6vtqTAm3yRS"
      },
      "execution_count": null,
      "outputs": []
    },
    {
      "cell_type": "markdown",
      "source": [
        "#Matplotlib"
      ],
      "metadata": {
        "id": "-wlEbOmI2MmB"
      }
    },
    {
      "cell_type": "markdown",
      "source": [
        "grafico a barre orizzontali"
      ],
      "metadata": {
        "id": "wFT8UarA2YY5"
      }
    },
    {
      "cell_type": "code",
      "source": [
        "import matplotlib.pyplot as plt\n",
        "\n",
        "dfGroup = df.groupby(['Revenue']).count()[[\"ItemName\"]]\n",
        "\n",
        "\n",
        "\n",
        "labels = dfGroup.index\n",
        "dati = dfGroup['ItemName']\n",
        "fig, ax = plt.subplots(figsize=(5,5))\n",
        "ax.barh(labels, dati)"
      ],
      "metadata": {
        "colab": {
          "base_uri": "https://localhost:8080/",
          "height": 338
        },
        "id": "y4gfYnqA4osy",
        "outputId": "24c859e2-81a5-4da0-d99f-973780caf7b9"
      },
      "execution_count": null,
      "outputs": [
        {
          "output_type": "execute_result",
          "data": {
            "text/plain": [
              "<BarContainer object of 2 artists>"
            ]
          },
          "metadata": {},
          "execution_count": 122
        },
        {
          "output_type": "display_data",
          "data": {
            "text/plain": [
              "<Figure size 360x360 with 1 Axes>"
            ],
            "image/png": "[encoded data removed]"
          },
          "metadata": {
            "needs_background": "light"
          }
        }
      ]
    },
    {
      "cell_type": "markdown",
      "source": [
        "grafico a barre verticali"
      ],
      "metadata": {
        "id": "o-41bPuf2dkZ"
      }
    },
    {
      "cell_type": "code",
      "source": [
        "import matplotlib.pyplot as plt\n",
        "\n",
        "dfGroup = df.groupby(['Revenue']).count()[[\"ItemName\"]]\n",
        "\n",
        "\n",
        "\n",
        "labels = dfGroup.index\n",
        "dati = dfGroup['ItemName']\n",
        "\n",
        "\n",
        "fig, ax = plt.subplots(figsize=(15,8))\n",
        "ax.bar(labels, dati, label='Revenue for every item', color=['Orange', 'Red', 'Brown', 'Blue','Green'])\n",
        "plt.xticks(rotation=90)\n",
        "ax.set_title('Revenue for every item')\n",
        "ax.set_ylabel('Revenue')\n",
        "ax.set_xlabel('Item name')\n",
        "ax.legend()"
      ],
      "metadata": {
        "colab": {
          "base_uri": "https://localhost:8080/",
          "height": 534
        },
        "id": "U0Ju9Kmj6CDo",
        "outputId": "8442293d-f484-406b-8883-d9165f77fd9d"
      },
      "execution_count": null,
      "outputs": [
        {
          "output_type": "execute_result",
          "data": {
            "text/plain": [
              "<matplotlib.legend.Legend at 0x7f00649381f0>"
            ]
          },
          "metadata": {},
          "execution_count": 128
        },
        {
          "output_type": "display_data",
          "data": {
            "text/plain": [
              "<Figure size 1080x576 with 1 Axes>"
            ],
            "image/png": "[encoded data removed]"
          },
          "metadata": {
            "needs_background": "light"
          }
        }
      ]
    },
    {
      "cell_type": "markdown",
      "source": [
        "grafico a torta"
      ],
      "metadata": {
        "id": "cRj0_X-F2fdB"
      }
    },
    {
      "cell_type": "markdown",
      "source": [
        "altri tipi di grafici"
      ],
      "metadata": {
        "id": "bg83rUIs2hF4"
      }
    }
  ]
}