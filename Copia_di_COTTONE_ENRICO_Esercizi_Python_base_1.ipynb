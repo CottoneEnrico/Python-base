{
  "nbformat": 4,
  "nbformat_minor": 0,
  "metadata": {
    "colab": {
      "provenance": []
    },
    "kernelspec": {
      "name": "python3",
      "display_name": "Python 3"
    },
    "language_info": {
      "name": "python"
    }
  },
  "cells": [
    {
      "cell_type": "markdown",
      "source": [
        "Scrivere al di sotto di ogni esercizio il codice richiesto. Al termine, consegnare su classroom il notebook realizzato."
      ],
      "metadata": {
        "id": "u24Wx-pXrz4j"
      }
    },
    {
      "cell_type": "markdown",
      "source": [
        "0. assegnare alle variabili x, y e z i valori 10, 20 e 30 in un'unica istruzione. Assegnare alle variabili a, b e c il valore 100 sempre in un'unica istruzione"
      ],
      "metadata": {
        "id": "ym0EsAfkyxmz"
      }
    },
    {
      "cell_type": "code",
      "source": [
        "x,y,z = 10, 20, 30\n",
        "a = b = c = 100\n",
        "print(x,y,z)\n",
        "print(a,b,c)"
      ],
      "metadata": {
        "id": "K6G4zgcCzAAz",
        "outputId": "8ebcb8fb-9690-45ba-acb8-8cba3c18ba20",
        "colab": {
          "base_uri": "https://localhost:8080/"
        }
      },
      "execution_count": null,
      "outputs": [
        {
          "output_type": "stream",
          "name": "stdout",
          "text": [
            "10 20 30\n",
            "100 100 100\n"
          ]
        }
      ]
    },
    {
      "cell_type": "markdown",
      "source": [
        "1. far inserire all'utente due numeri interi, scambiarli e visualizzarli"
      ],
      "metadata": {
        "id": "_w3ESGmCr7SL"
      }
    },
    {
      "cell_type": "code",
      "source": [
        "input1 = input(\"Inserire il primo numero intero: \")\n",
        "\n",
        "input2 = input(\"Inserire il secondo numero intero: \")\n",
        "\n",
        "num1 = input1\n",
        "num2 = input2\n",
        "\n",
        "print(\"Il primo numero prima di essere scambiato era: \" + str(num1))\n",
        "print(\"Il secondo numero prima di essere scambiato era: \" + str(num2))\n",
        "# Inverto i numeri\n",
        "\n",
        "num1 = input2\n",
        "num2 = input1\n",
        "print(\"Il primo numero scambiato è: \" + str(num1))\n",
        "print(\"Il secondo numero scambiato è: \" + str(num2))\n"
      ],
      "metadata": {
        "id": "z5zHMYWlseti",
        "colab": {
          "base_uri": "https://localhost:8080/"
        },
        "outputId": "cb471bdf-7f3b-4db0-ec8f-c3906e041b59"
      },
      "execution_count": null,
      "outputs": [
        {
          "output_type": "stream",
          "name": "stdout",
          "text": [
            "Inserire il primo numero intero: 10\n",
            "Inserire il secondo numero intero: 20\n",
            "Il primo numero prima di essere scambiato era: 10\n",
            "Il secondo numero prima di essere scambiato era: 20\n",
            "Il primo numero scambiato è: 20\n",
            "Il secondo numero scambiato è: 10\n"
          ]
        }
      ]
    },
    {
      "cell_type": "markdown",
      "source": [
        "2. far inserire all'utente due numeri e calcolare l'elevamento a potenza del primo per il secondo. Provare poi a vedere qual'è la massima potenza del 2 che Python riece a calcolare: lo smartphone è altrettanto potente?"
      ],
      "metadata": {
        "id": "dkojX3qusGJi"
      }
    },
    {
      "cell_type": "code",
      "source": [
        "input1 = float(input(\"Inserire il primo numero: \"))\n",
        "input2 = float(input(\"Inserire il secondo numero: \"))\n",
        "\n",
        "potenza = pow(input1,input2)\n",
        "\n",
        "print(potenza)"
      ],
      "metadata": {
        "id": "pYzftTyguOAc",
        "colab": {
          "base_uri": "https://localhost:8080/"
        },
        "outputId": "74c0dd0d-3df4-4032-9542-878c33414e78"
      },
      "execution_count": null,
      "outputs": [
        {
          "output_type": "stream",
          "name": "stdout",
          "text": [
            "Inserire il primo numero: 2\n",
            "Inserire il secondo numero: 500\n",
            "3.273390607896142e+150\n"
          ]
        }
      ]
    },
    {
      "cell_type": "markdown",
      "source": [
        "3. far inserire all'utente tre numeri e visualizzare il massimo dei tre"
      ],
      "metadata": {
        "id": "PYqK5w8yseCy"
      }
    },
    {
      "cell_type": "code",
      "source": [
        "input1 = float(input(\"Inserire il primo numero: \"))\n",
        "input2 = float(input(\"Inserire il secondo numero: \"))\n",
        "input3 = float(input(\"Inserire il terzo numero: \"))\n",
        "max = 0\n",
        "\n",
        "if input1 > input2 and input1 > input3:\n",
        "  max = input1\n",
        "  print(max)\n",
        "elif input1 > input3 and input1 < input2 and input2 > input3:\n",
        "  max = input2\n",
        "  print(max)\n",
        "elif input1 < input2 and input3 > input2:\n",
        "  max = input3\n",
        "  print(max)\n",
        "\n"
      ],
      "metadata": {
        "id": "pJSumYgPsmAb",
        "colab": {
          "base_uri": "https://localhost:8080/",
          "height": 252
        },
        "outputId": "387a37c6-7e49-4650-b6f2-b55da1f01fd5"
      },
      "execution_count": null,
      "outputs": [
        {
          "name": "stdout",
          "output_type": "stream",
          "text": [
            "Inserire il primo numero: 5\n",
            "Inserire il secondo numero: 6\n",
            "Inserire il terzo numero: 7\n"
          ]
        },
        {
          "output_type": "error",
          "ename": "TypeError",
          "evalue": "ignored",
          "traceback": [
            "\u001b[0;31m---------------------------------------------------------------------------\u001b[0m",
            "\u001b[0;31mTypeError\u001b[0m                                 Traceback (most recent call last)",
            "\u001b[0;32m<ipython-input-18-86b83a3f3a5c>\u001b[0m in \u001b[0;36m<module>\u001b[0;34m\u001b[0m\n\u001b[1;32m      3\u001b[0m \u001b[0minput3\u001b[0m \u001b[0;34m=\u001b[0m \u001b[0minput\u001b[0m\u001b[0;34m(\u001b[0m\u001b[0;34m\"Inserire il terzo numero: \"\u001b[0m\u001b[0;34m)\u001b[0m\u001b[0;34m\u001b[0m\u001b[0;34m\u001b[0m\u001b[0m\n\u001b[1;32m      4\u001b[0m \u001b[0;34m\u001b[0m\u001b[0m\n\u001b[0;32m----> 5\u001b[0;31m \u001b[0mprint\u001b[0m\u001b[0;34m(\u001b[0m\u001b[0mmax\u001b[0m\u001b[0;34m(\u001b[0m\u001b[0minput1\u001b[0m\u001b[0;34m,\u001b[0m \u001b[0minput2\u001b[0m\u001b[0;34m,\u001b[0m \u001b[0minput3\u001b[0m\u001b[0;34m)\u001b[0m\u001b[0;34m)\u001b[0m\u001b[0;34m\u001b[0m\u001b[0;34m\u001b[0m\u001b[0m\n\u001b[0m",
            "\u001b[0;31mTypeError\u001b[0m: 'int' object is not callable"
          ]
        }
      ]
    },
    {
      "cell_type": "markdown",
      "source": [
        "4. dati tre numeri, dire se con quei tre numeri possiamo costruire un triangolo"
      ],
      "metadata": {
        "id": "sJJHEnXXsmeL"
      }
    },
    {
      "cell_type": "code",
      "source": [],
      "metadata": {
        "id": "u6iI2qeosvlS"
      },
      "execution_count": null,
      "outputs": []
    },
    {
      "cell_type": "markdown",
      "source": [
        "5. far inserire dall'utente le misure di due cateti di un triangolo rettangolo (valori reali) e calcolare l'area del rettangolo e l'ipotenusa"
      ],
      "metadata": {
        "id": "zeDmm2t9sxER"
      }
    },
    {
      "cell_type": "code",
      "source": [
        "import math\n",
        "\n",
        "cateto1 = int(input(\"Inserisci il cateto 1: \"))\n",
        "cateto2 = int(input(\"Inserisci il cateto 2: \"))\n",
        "\n",
        "area = cateto1 * cateto2 / 2\n",
        "ipotenusa = math.sqrt((cateto1 ** 2) + (cateto2 ** 2))\n",
        "print(\"Area: \" + str(area), \"\\nIpotenusa: \" + str(ipotenusa))"
      ],
      "metadata": {
        "id": "MJ2jzq4PtSti",
        "colab": {
          "base_uri": "https://localhost:8080/"
        },
        "outputId": "cfbbdc15-50e2-437e-b659-5c845f4f380a"
      },
      "execution_count": null,
      "outputs": [
        {
          "output_type": "stream",
          "name": "stdout",
          "text": [
            "Inserisci il cateto 1: 1\n",
            "Inserisci il cateto 2: 1\n",
            "Area: 0.5 \n",
            "Ipotenusa: 1.4142135623730951\n"
          ]
        }
      ]
    },
    {
      "cell_type": "markdown",
      "source": [
        "6. far inserire un numero intero dall'utente e dire se è pari o dispari"
      ],
      "metadata": {
        "id": "64dgOKMRtTDq"
      }
    },
    {
      "cell_type": "code",
      "source": [
        "input1 = int(input(\"Inserire un numero intero: \"))\n",
        "\n",
        "if input1 % 2 == 0:\n",
        "  print(str(input1) + \" è pari\")\n",
        "else:\n",
        "  print(str(input1) + \" è dispari\")"
      ],
      "metadata": {
        "id": "W7fI6Ej8t8Z6",
        "colab": {
          "base_uri": "https://localhost:8080/"
        },
        "outputId": "38e719ae-b11c-4298-c194-a2dfb60f4434"
      },
      "execution_count": null,
      "outputs": [
        {
          "output_type": "stream",
          "name": "stdout",
          "text": [
            "Inserire un numero intero: 5\n",
            "5 è dispari\n"
          ]
        }
      ]
    },
    {
      "cell_type": "markdown",
      "source": [
        "7. far inserire all'utente il valore di una temperatura in gradi centigradi e convertirlo in gradi fahrenheit"
      ],
      "metadata": {
        "id": "V16n7CsCuUXC"
      }
    },
    {
      "cell_type": "code",
      "source": [
        "# (input1 * 9/5) + 32\n",
        "\n",
        "input1 = int(input(\"Inserire una temperatura in gradi centigradi: \"))\n",
        "\n",
        "print((input1 * 9/5) + 32)"
      ],
      "metadata": {
        "id": "DUlV468iuhE7",
        "colab": {
          "base_uri": "https://localhost:8080/"
        },
        "outputId": "0a3428bc-f425-421e-ab39-ef168d0838d0"
      },
      "execution_count": null,
      "outputs": [
        {
          "output_type": "stream",
          "name": "stdout",
          "text": [
            "Inserire una temperatura in gradi centigradi: 100\n",
            "212.0\n"
          ]
        }
      ]
    },
    {
      "cell_type": "markdown",
      "source": [
        "8. far inserire all'utente il valore di una temperatura in gradi centigradi e convertirlo in gradi fahrenheit"
      ],
      "metadata": {
        "id": "TRbh4pEwuher"
      }
    },
    {
      "cell_type": "code",
      "source": [
        "# (input °F - 32) × 5/9 = 0 °C\n",
        "input1 = int(input(\"Inserire una temperatura in fahrenheit: \"))\n",
        "\n",
        "print((input1 - 32) * 5/9)"
      ],
      "metadata": {
        "id": "CNwCDAIFup-K"
      },
      "execution_count": null,
      "outputs": []
    },
    {
      "cell_type": "markdown",
      "source": [
        "9. far inserire all'utente una velocità in Km/h e visualizzare la stessa velocità in metri al secondo"
      ],
      "metadata": {
        "id": "YRjS88gtuqeC"
      }
    },
    {
      "cell_type": "code",
      "source": [
        "input1 = int(input(\"inserire una velocità in Km/h: \"))\n",
        "\n",
        "print(input1 / 3.6)"
      ],
      "metadata": {
        "id": "Wricx3yyx3tb",
        "colab": {
          "base_uri": "https://localhost:8080/"
        },
        "outputId": "75340035-674a-46a5-e695-d8b10d7aa63d"
      },
      "execution_count": null,
      "outputs": [
        {
          "output_type": "stream",
          "name": "stdout",
          "text": [
            "inserire una velocità in Km/h: 90\n",
            "25.0\n"
          ]
        }
      ]
    },
    {
      "cell_type": "markdown",
      "source": [
        "10. far inserire all'utente il raggio di un cerchio e visualizzarne il diametro e l'area"
      ],
      "metadata": {
        "id": "ltgIq2OGx4I7"
      }
    },
    {
      "cell_type": "code",
      "source": [
        "# 3.14 * raggio ** 2\n",
        "# diametro: raggio * 2\n",
        "import math\n",
        "\n",
        "input1 = int(input(\"Inserisci il raggio: \"))\n",
        "raggio = math.pi * input1 ** 2\n",
        "diametro = raggio * 2\n",
        "print(\"Il raggio è \" + str(raggio))\n",
        "print(\"Il diametro è \" + str(diametro))"
      ],
      "metadata": {
        "id": "BpbAnnUOzjGD",
        "outputId": "5e8fed4f-0564-417b-c77a-1f718b73d6e2",
        "colab": {
          "base_uri": "https://localhost:8080/"
        }
      },
      "execution_count": null,
      "outputs": [
        {
          "output_type": "stream",
          "name": "stdout",
          "text": [
            "Inserisci il raggio: 1\n",
            "Il raggio è 3.141592653589793\n",
            "Il diametro è 6.283185307179586\n"
          ]
        }
      ]
    },
    {
      "cell_type": "markdown",
      "source": [
        "11. far inserire all'utente il suo nome e poi il suo cognome e visualizzare il suo cognome e il suo nome separati da uno spazio"
      ],
      "metadata": {
        "id": "M18Obb-Gzjdq"
      }
    },
    {
      "cell_type": "code",
      "source": [
        "nome = input(\"Inserire il suo nome e il cognome: \")\n",
        "args = nome.split(\" \")\n",
        "print(\"Nome: \" + args[0] + \"\\nCognome: \" + args[1])"
      ],
      "metadata": {
        "id": "w2C_ln0LzwPa",
        "colab": {
          "base_uri": "https://localhost:8080/"
        },
        "outputId": "ba762213-206a-4e9d-f599-9dc3a3af4fd7"
      },
      "execution_count": null,
      "outputs": [
        {
          "output_type": "stream",
          "name": "stdout",
          "text": [
            "Inserire il suo nome e il cognome: Enrico Cottone\n",
            "Nome: Enrico\n",
            "Cognome: Cottone\n"
          ]
        }
      ]
    },
    {
      "cell_type": "markdown",
      "source": [
        "12. far inserire all'utente un numero e visualizzare il suo valore assoluto"
      ],
      "metadata": {
        "id": "BS9gBYBUzwp7"
      }
    },
    {
      "cell_type": "code",
      "source": [
        "numero = float(input(\"Inserire un numero: \"))\n",
        "print(abs(numero))"
      ],
      "metadata": {
        "id": "KOZrphgUz89a",
        "colab": {
          "base_uri": "https://localhost:8080/"
        },
        "outputId": "74b5b470-06f3-44a7-82e6-09c511f0d6fc"
      },
      "execution_count": null,
      "outputs": [
        {
          "output_type": "stream",
          "name": "stdout",
          "text": [
            "Inserire un numero: -5\n",
            "5.0\n"
          ]
        }
      ]
    },
    {
      "cell_type": "markdown",
      "source": [
        "13. far inserire all'utente un voto e controllare che sia compreso tra 1 e 10, estremi inclusi, Se è compreso visualizzare la stringa 'OK' altrimenti visualizzare la stringa 'KO'"
      ],
      "metadata": {
        "id": "j1tl_8INz9ZS"
      }
    },
    {
      "cell_type": "code",
      "source": [
        "voto = int(input(\"Inserire un numero: \"))\n",
        "\n",
        "if voto >= 1 and voto <= 10:\n",
        "  print(\"OK\")\n",
        "else:\n",
        "  print(\"KO\")"
      ],
      "metadata": {
        "id": "7Cgqx9K20ccr",
        "colab": {
          "base_uri": "https://localhost:8080/"
        },
        "outputId": "efe92c32-4ed2-4dce-f88f-3072a20e2099"
      },
      "execution_count": null,
      "outputs": [
        {
          "output_type": "stream",
          "name": "stdout",
          "text": [
            "Inserire un numero compreso tra 1 e 10: 11\n",
            "KO\n"
          ]
        }
      ]
    },
    {
      "cell_type": "markdown",
      "source": [
        "14. far inserire all'utente due numeri e dire se uno è multiplo dell'altro. Ad esempio se l'utente inserisse i valori 60 e 15 il programma dovrebbe visualizzare la stringa '60 è un multiplo di 15'. Stessa cosa se l'utente inserisse prima il 15 e poi il 60., Se non sono multipli, visualizzare un messaggio appropriato"
      ],
      "metadata": {
        "id": "3PIY9PvH0c06"
      }
    },
    {
      "cell_type": "code",
      "source": [
        "numero1 = int(input(\"Inserire il primo numero: \"))\n",
        "numero2 = int(input(\"Inserire il secondo numero: \"))\n",
        "\n",
        "if numero1 % numero2 == 0 or numero2 % numero1 == 0:\n",
        "  print(str(numero1) + \" è un multiplo di \" + str(numero2))\n",
        "else:\n",
        "    print(str(numero1) + \" non è un multiplo di \" + str(numero2))"
      ],
      "metadata": {
        "id": "VS8xJJQZ1FfS"
      },
      "execution_count": null,
      "outputs": []
    },
    {
      "cell_type": "markdown",
      "source": [
        "15. far inserire all'utente la durata di un periodi di tempo in ore, minuti e secondi e convertirlo in secondi"
      ],
      "metadata": {
        "id": "444w9p761F7j"
      }
    },
    {
      "cell_type": "code",
      "source": [
        "ore = int(input(\"Inserire ore: \"))\n",
        "minuti = int(input(\"Inserire minuti: \"))\n",
        "secondi = int(input(\"Inserire secondi: \"))\n",
        "\n",
        "\n",
        "if ore > 0 and minuti > 0 and secondi > 0:\n",
        "  print(\"Il risultato in secondi è: \" + str(ore * 3600 + minuti * 60 + secondi))\n",
        "elif ore > 0 and minuti > 0 and secondi < 1:\n",
        "  print(\"Il risultato in secondi è: \" + str(ore * 3600 + minuti * 60 + 0))\n",
        "elif ore > 0 and minuti < 1 and secondi < 1:\n",
        "  print(\"Il risultato in secondi è: \" + str(ore * 3600))"
      ],
      "metadata": {
        "id": "S0xfdzxW1ijl",
        "colab": {
          "base_uri": "https://localhost:8080/"
        },
        "outputId": "9de1949f-0982-4e1c-8461-29fb8ddbded6"
      },
      "execution_count": null,
      "outputs": [
        {
          "output_type": "stream",
          "name": "stdout",
          "text": [
            "Inserire ore: 1\n",
            "Inserire minuti: 20\n",
            "Inserire secondi: 30\n",
            "Il risultato in secondi è: 4830\n"
          ]
        }
      ]
    },
    {
      "cell_type": "markdown",
      "source": [
        "16. far inserire all'utente la durata di un periodo in secondi e convertirlo in ore, minuti e secondi"
      ],
      "metadata": {
        "id": "3KaGzt4U1jA7"
      }
    },
    {
      "cell_type": "code",
      "source": [
        "import math\n",
        "secondi = int(input(\"Inserire i secondi: \"))\n",
        "\n",
        "\n",
        "ore = secondi // 3600\n",
        "sec = secondi % 3600\n",
        "min = secondi // 60\n",
        "sec = secondi % 60\n",
        "print(ore)\n",
        "print(min)\n",
        "print(sec)\n",
        "\n",
        "print(\"Ci sono \" + str(ore) + \"h, \" + str(min) + \"m, \" + str(sec) + \"s.\")"
      ],
      "metadata": {
        "id": "wAwF6xB-10YD",
        "colab": {
          "base_uri": "https://localhost:8080/",
          "height": 380
        },
        "outputId": "791223a3-7004-4510-f0bb-a2687aadcded"
      },
      "execution_count": null,
      "outputs": [
        {
          "output_type": "error",
          "ename": "KeyboardInterrupt",
          "evalue": "ignored",
          "traceback": [
            "\u001b[0;31m---------------------------------------------------------------------------\u001b[0m",
            "\u001b[0;31mKeyboardInterrupt\u001b[0m                         Traceback (most recent call last)",
            "\u001b[0;32m<ipython-input-33-4cef88c39d0b>\u001b[0m in \u001b[0;36m<module>\u001b[0;34m\u001b[0m\n\u001b[1;32m      1\u001b[0m \u001b[0;32mimport\u001b[0m \u001b[0mmath\u001b[0m\u001b[0;34m\u001b[0m\u001b[0;34m\u001b[0m\u001b[0m\n\u001b[0;32m----> 2\u001b[0;31m \u001b[0msecondi\u001b[0m \u001b[0;34m=\u001b[0m \u001b[0mint\u001b[0m\u001b[0;34m(\u001b[0m\u001b[0minput\u001b[0m\u001b[0;34m(\u001b[0m\u001b[0;34m\"Inserire i secondi: \"\u001b[0m\u001b[0;34m)\u001b[0m\u001b[0;34m)\u001b[0m\u001b[0;34m\u001b[0m\u001b[0;34m\u001b[0m\u001b[0m\n\u001b[0m\u001b[1;32m      3\u001b[0m \u001b[0;34m\u001b[0m\u001b[0m\n\u001b[1;32m      4\u001b[0m \u001b[0;34m\u001b[0m\u001b[0m\n\u001b[1;32m      5\u001b[0m \u001b[0more\u001b[0m \u001b[0;34m=\u001b[0m \u001b[0msecondi\u001b[0m \u001b[0;34m//\u001b[0m \u001b[0;36m3600\u001b[0m\u001b[0;34m\u001b[0m\u001b[0;34m\u001b[0m\u001b[0m\n",
            "\u001b[0;32m/usr/local/lib/python3.7/dist-packages/ipykernel/kernelbase.py\u001b[0m in \u001b[0;36mraw_input\u001b[0;34m(self, prompt)\u001b[0m\n\u001b[1;32m    861\u001b[0m             \u001b[0mself\u001b[0m\u001b[0;34m.\u001b[0m\u001b[0m_parent_ident\u001b[0m\u001b[0;34m,\u001b[0m\u001b[0;34m\u001b[0m\u001b[0;34m\u001b[0m\u001b[0m\n\u001b[1;32m    862\u001b[0m             \u001b[0mself\u001b[0m\u001b[0;34m.\u001b[0m\u001b[0m_parent_header\u001b[0m\u001b[0;34m,\u001b[0m\u001b[0;34m\u001b[0m\u001b[0;34m\u001b[0m\u001b[0m\n\u001b[0;32m--> 863\u001b[0;31m             \u001b[0mpassword\u001b[0m\u001b[0;34m=\u001b[0m\u001b[0;32mFalse\u001b[0m\u001b[0;34m,\u001b[0m\u001b[0;34m\u001b[0m\u001b[0;34m\u001b[0m\u001b[0m\n\u001b[0m\u001b[1;32m    864\u001b[0m         )\n\u001b[1;32m    865\u001b[0m \u001b[0;34m\u001b[0m\u001b[0m\n",
            "\u001b[0;32m/usr/local/lib/python3.7/dist-packages/ipykernel/kernelbase.py\u001b[0m in \u001b[0;36m_input_request\u001b[0;34m(self, prompt, ident, parent, password)\u001b[0m\n\u001b[1;32m    902\u001b[0m             \u001b[0;32mexcept\u001b[0m \u001b[0mKeyboardInterrupt\u001b[0m\u001b[0;34m:\u001b[0m\u001b[0;34m\u001b[0m\u001b[0;34m\u001b[0m\u001b[0m\n\u001b[1;32m    903\u001b[0m                 \u001b[0;31m# re-raise KeyboardInterrupt, to truncate traceback\u001b[0m\u001b[0;34m\u001b[0m\u001b[0;34m\u001b[0m\u001b[0;34m\u001b[0m\u001b[0m\n\u001b[0;32m--> 904\u001b[0;31m                 \u001b[0;32mraise\u001b[0m \u001b[0mKeyboardInterrupt\u001b[0m\u001b[0;34m(\u001b[0m\u001b[0;34m\"Interrupted by user\"\u001b[0m\u001b[0;34m)\u001b[0m \u001b[0;32mfrom\u001b[0m \u001b[0;32mNone\u001b[0m\u001b[0;34m\u001b[0m\u001b[0;34m\u001b[0m\u001b[0m\n\u001b[0m\u001b[1;32m    905\u001b[0m             \u001b[0;32mexcept\u001b[0m \u001b[0mException\u001b[0m \u001b[0;32mas\u001b[0m \u001b[0me\u001b[0m\u001b[0;34m:\u001b[0m\u001b[0;34m\u001b[0m\u001b[0;34m\u001b[0m\u001b[0m\n\u001b[1;32m    906\u001b[0m                 \u001b[0mself\u001b[0m\u001b[0;34m.\u001b[0m\u001b[0mlog\u001b[0m\u001b[0;34m.\u001b[0m\u001b[0mwarning\u001b[0m\u001b[0;34m(\u001b[0m\u001b[0;34m\"Invalid Message:\"\u001b[0m\u001b[0;34m,\u001b[0m \u001b[0mexc_info\u001b[0m\u001b[0;34m=\u001b[0m\u001b[0;32mTrue\u001b[0m\u001b[0;34m)\u001b[0m\u001b[0;34m\u001b[0m\u001b[0;34m\u001b[0m\u001b[0m\n",
            "\u001b[0;31mKeyboardInterrupt\u001b[0m: Interrupted by user"
          ]
        }
      ]
    }
  ]
}